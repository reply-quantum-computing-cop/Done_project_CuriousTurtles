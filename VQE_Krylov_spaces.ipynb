{
 "cells": [
  {
   "cell_type": "markdown",
   "id": "65e79b93-c446-4b77-8038-67544562dc2b",
   "metadata": {},
   "source": [
    "###  Install\n",
    "\n",
    " - Open a terminal and install `cuquantum-python` and `pennylane-lightning-qpu`:\n",
    " \n",
    "   ```\n",
    "   conda install -c conda-forge cuquantum-python\n",
    "   pip install pennylane-lightning-qpu\n",
    "   ```"
   ]
  },
  {
   "cell_type": "code",
   "execution_count": 35,
   "id": "c92002a9-66e6-4e55-8e74-90e501f3ec04",
   "metadata": {
    "tags": []
   },
   "outputs": [],
   "source": [
    "from pennylane import numpy as np\n",
    "import pennylane as qml\n",
    "from pennylane.pauli import pauli_mult, pauli_mult_with_phase, pauli_word_to_string, string_to_pauli_word\n",
    "from scipy.linalg import eigh\n",
    "from scipy.linalg import det"
   ]
  },
  {
   "cell_type": "code",
   "execution_count": 2,
   "id": "775eabe9-a99f-4ab9-8240-fe7b75c4d0de",
   "metadata": {
    "tags": []
   },
   "outputs": [],
   "source": [
    "def angstrom_to_bohr(dist):\n",
    "    return dist*1.88973"
   ]
  },
  {
   "cell_type": "code",
   "execution_count": 3,
   "id": "b49ce02a-082d-42dc-9638-3826a5a7bb0b",
   "metadata": {
    "tags": []
   },
   "outputs": [
    {
     "name": "stdout",
     "output_type": "stream",
     "text": [
      "Number of qubits =  12\n"
     ]
    }
   ],
   "source": [
    "n_electrons = 4\n",
    "n_orbitals = 6\n",
    "\n",
    "symbols = [\"H\", \"Be\", \"H\"]\n",
    "coordinates = angstrom_to_bohr(np.array([0.0, 0.0, -1.291, 0.0, 0.0,0.0, 0.0, 0.0, 1.291]))\n",
    "#coordinates = angstrom_to_bohr(np.array([0.0, 0.0, -1.33, 0.0, 0.0,0.0, 0.0, 0.0, 1.33]))\n",
    "\n",
    "\n",
    "H, n_qubits = qml.qchem.molecular_hamiltonian(symbols,\n",
    "                                                coordinates,\n",
    "                                                active_electrons=n_electrons,\n",
    "                                                active_orbitals=n_orbitals,\n",
    "                                                grouping_method='qwc')\n",
    "print(\"Number of qubits = \", n_qubits)\n",
    "# print(\"The Hamiltonian is \", H)"
   ]
  },
  {
   "cell_type": "code",
   "execution_count": 4,
   "id": "d31df570-6cb7-43b0-bb2f-cb59622674f6",
   "metadata": {
    "tags": []
   },
   "outputs": [
    {
     "name": "stdout",
     "output_type": "stream",
     "text": [
      "327\n"
     ]
    }
   ],
   "source": [
    "print(len(H.coeffs))"
   ]
  },
  {
   "cell_type": "code",
   "execution_count": 5,
   "id": "c977d39a-f043-45a9-8ed8-90152ef2f033",
   "metadata": {
    "tags": []
   },
   "outputs": [
    {
     "name": "stderr",
     "output_type": "stream",
     "text": [
      "/opt/conda/lib/python3.10/site-packages/pennylane/operation.py:1830: UserWarning: Tensor object acts on overlapping wires; in some PennyLane functions this will lead to undefined behaviour\n",
      "  warnings.warn(\n",
      "/opt/conda/lib/python3.10/site-packages/pennylane/operation.py:1993: UserWarning: Tensor object acts on overlapping wires; in some PennyLane functions this will lead to undefined behaviour\n",
      "  warnings.warn(\n"
     ]
    }
   ],
   "source": [
    "generators = qml.symmetry_generators(H)\n",
    "paulixops = qml.paulix_ops(generators, n_qubits)\n",
    "paulix_sector = qml.qchem.optimal_sector(H, generators, n_electrons)"
   ]
  },
  {
   "cell_type": "code",
   "execution_count": 6,
   "id": "eb389636-5303-4c01-aef6-cf2a703367d2",
   "metadata": {
    "tags": []
   },
   "outputs": [],
   "source": [
    "H_tapered = qml.taper(H, generators, paulixops, paulix_sector)\n",
    "# print(H_tapered)"
   ]
  },
  {
   "cell_type": "code",
   "execution_count": 7,
   "id": "57e0cd9a-820c-46e0-9e94-493e7252c842",
   "metadata": {
    "tags": []
   },
   "outputs": [
    {
     "name": "stdout",
     "output_type": "stream",
     "text": [
      "268\n"
     ]
    }
   ],
   "source": [
    "print(len(H_tapered.ops))"
   ]
  },
  {
   "cell_type": "code",
   "execution_count": 8,
   "id": "6877f79c-3d77-49d5-91c2-6c056a2a1e13",
   "metadata": {
    "tags": []
   },
   "outputs": [
    {
     "name": "stdout",
     "output_type": "stream",
     "text": [
      "[1 1 1 1 0 0 0]\n"
     ]
    }
   ],
   "source": [
    "state_tapered = qml.qchem.taper_hf(generators, paulixops, paulix_sector,\n",
    "                                   num_electrons=n_electrons, num_wires=len(H.wires))\n",
    "print(state_tapered)"
   ]
  },
  {
   "cell_type": "code",
   "execution_count": 9,
   "id": "a79ae8a3-4898-421c-843a-45bdb4cafc0b",
   "metadata": {
    "tags": []
   },
   "outputs": [
    {
     "data": {
      "text/plain": [
       "12"
      ]
     },
     "execution_count": 9,
     "metadata": {},
     "output_type": "execute_result"
    }
   ],
   "source": [
    "len(H.wires)"
   ]
  },
  {
   "cell_type": "code",
   "execution_count": 10,
   "id": "e78d2295-29d6-4951-a720-2da8d2761896",
   "metadata": {
    "tags": []
   },
   "outputs": [],
   "source": [
    "dev = qml.device(\"default.qubit\", wires=H_tapered.wires)\n",
    "@qml.qnode(dev)\n",
    "def circuit():\n",
    "    qml.BasisState(np.array(state_tapered), wires=H_tapered.wires)\n",
    "    return qml.state()"
   ]
  },
  {
   "cell_type": "code",
   "execution_count": 11,
   "id": "a66f6021-cce1-435d-b3a9-968a083ef987",
   "metadata": {
    "tags": []
   },
   "outputs": [
    {
     "name": "stdout",
     "output_type": "stream",
     "text": [
      "HF energy (tapered): -15.56135260 Ha\n"
     ]
    }
   ],
   "source": [
    "qubit_state = circuit()\n",
    "HF_energy = qubit_state.T @ qml.utils.sparse_hamiltonian(H_tapered).toarray() @ qubit_state\n",
    "print(f\"HF energy (tapered): {np.real(HF_energy):.8f} Ha\")"
   ]
  },
  {
   "cell_type": "code",
   "execution_count": 12,
   "id": "18b9f357-dd89-4e6e-b70a-0e412601abe8",
   "metadata": {},
   "outputs": [
    {
     "name": "stdout",
     "output_type": "stream",
     "text": [
      "singles 16 doubles  76\n"
     ]
    }
   ],
   "source": [
    "singles, doubles = qml.qchem.excitations(n_electrons, len(H.wires))\n",
    "print('singles', len(singles), 'doubles ', len(doubles))\n",
    "tapered_doubles = [\n",
    "    qml.taper_operation(qml.DoubleExcitation, generators, paulixops, paulix_sector,\n",
    "                        wire_order=H.wires, op_wires=double) for double in doubles\n",
    "]\n",
    "tapered_singles = [\n",
    "    qml.taper_operation(qml.SingleExcitation, generators, paulixops, paulix_sector,\n",
    "                        wire_order=H.wires, op_wires=single) for single in singles\n",
    "]"
   ]
  },
  {
   "cell_type": "code",
   "execution_count": 13,
   "id": "ed5b0649-5135-462d-8297-9c00d7d17d22",
   "metadata": {},
   "outputs": [],
   "source": [
    "dev = qml.device(\"default.qubit\", wires=H_tapered.wires)\n",
    "@qml.qnode(dev)\n",
    "def tapered_circuit(params):\n",
    "    qml.BasisState(state_tapered, wires=H_tapered.wires)\n",
    "    for idx, tapered_op in enumerate(tapered_doubles + tapered_singles):\n",
    "        tapered_op(params[idx])\n",
    "    return qml.expval(H_tapered)"
   ]
  },
  {
   "cell_type": "code",
   "execution_count": 14,
   "id": "f475db3f-edf5-403d-b9ed-309873f5d0ef",
   "metadata": {
    "tags": []
   },
   "outputs": [],
   "source": [
    "optimizer = qml.GradientDescentOptimizer(stepsize=0.5)\n",
    "params = np.zeros(len(doubles) + len(singles), requires_grad=True)"
   ]
  },
  {
   "cell_type": "code",
   "execution_count": 15,
   "id": "073ad97b-4116-4afe-9f34-350f4d7c95ec",
   "metadata": {
    "tags": []
   },
   "outputs": [
    {
     "data": {
      "text/plain": [
       "tensor(-15.5613526, requires_grad=True)"
      ]
     },
     "execution_count": 15,
     "metadata": {},
     "output_type": "execute_result"
    }
   ],
   "source": [
    "tapered_circuit(params)"
   ]
  },
  {
   "cell_type": "code",
   "execution_count": 16,
   "id": "ffc52185-6cef-45e9-bd0a-5457a9e668db",
   "metadata": {
    "tags": []
   },
   "outputs": [
    {
     "name": "stdout",
     "output_type": "stream",
     "text": [
      "n: 0, E: -15.56135260 Ha\n",
      "n: 10, E: -15.59398767 Ha\n",
      "n: 20, E: -15.59407853 Ha\n",
      "n: 30, E: -15.59408220 Ha\n",
      "n: 40, E: -15.59408238 Ha\n"
     ]
    }
   ],
   "source": [
    "for n in range(41):\n",
    "    params, energy = optimizer.step_and_cost(tapered_circuit, params)\n",
    "    if n % 10 == 0:\n",
    "        print(f\"n: {n}, E: {energy:.8f} Ha\")"
   ]
  },
  {
   "cell_type": "code",
   "execution_count": 18,
   "id": "6a11c3fd-c1cf-43ae-913c-8341b0d5d9c5",
   "metadata": {
    "tags": []
   },
   "outputs": [],
   "source": [
    "@qml.qnode(dev)\n",
    "def tapered_state(params):\n",
    "    qml.BasisState(state_tapered, wires=H_tapered.wires)\n",
    "    for idx, tapered_op in enumerate(tapered_doubles + tapered_singles):\n",
    "        tapered_op(params[idx])\n",
    "    return qml.state()"
   ]
  },
  {
   "cell_type": "code",
   "execution_count": 19,
   "id": "3d5f70e9-edc1-4ed1-9794-e6928c205ca9",
   "metadata": {
    "tags": []
   },
   "outputs": [],
   "source": [
    "input_state = tapered_state(params)"
   ]
  },
  {
   "cell_type": "code",
   "execution_count": 20,
   "id": "873fe37b-8189-4daf-a90c-c9eebba98f1e",
   "metadata": {
    "tags": []
   },
   "outputs": [],
   "source": [
    "# Return the Pauli words of H in string form\n",
    "def extract_basis_str(H, wire_map):\n",
    "    return set(pauli_word_to_string(op, wire_map = wire_map) for op in H.ops)"
   ]
  },
  {
   "cell_type": "code",
   "execution_count": 21,
   "id": "d6f956d8-ca6f-42a9-a977-3793aecbbbef",
   "metadata": {
    "tags": []
   },
   "outputs": [],
   "source": [
    "# Generate the cummulative space CSK\n",
    "def cummulative_space(H, K, wire_map):\n",
    "    \n",
    "    CSK = set()\n",
    "    if K == 0:\n",
    "        Id = 'I'\n",
    "        for i in range(qubits-1):\n",
    "            Id += 'I'\n",
    "        return {Id}\n",
    "    \n",
    "    elif K==1:\n",
    "        return extract_basis_str(H, wire_map)\n",
    "    \n",
    "    else:\n",
    "        CS1 = extract_basis_str(H, wire_map)\n",
    "        \n",
    "        Id = 'I'\n",
    "        for i in range(qubits-1):\n",
    "            Id += 'I'\n",
    "            \n",
    "        basis = [{''.join(['I' for _ in range(qubits_tap)])}, CS1]\n",
    "        \n",
    "        for k in range(K-1):\n",
    "            CSK.update(basis[-2])\n",
    "            basis.append(increment_cummulative_space( basis[-1].difference(a)  ,CS1))\n",
    "            \n",
    "        CSK.update(*basis[-2:])\n",
    "    return CSK"
   ]
  },
  {
   "cell_type": "code",
   "execution_count": 22,
   "id": "0f886415-e046-4128-9c71-6b0ef1772a24",
   "metadata": {
    "tags": []
   },
   "outputs": [],
   "source": [
    "# Help generate the cummulative space\n",
    "def increment_cummulative_space(basis, CS1):\n",
    "    return set(pauli_word_to_string(pauli_mult(s1, s2)) for s1 in basis for s2 in CS1)\n"
   ]
  },
  {
   "cell_type": "markdown",
   "id": "2bcc2947-3f52-4c90-8d6a-a4531de04c1a",
   "metadata": {},
   "source": [
    "### Molecule"
   ]
  },
  {
   "cell_type": "code",
   "execution_count": 25,
   "id": "729c6996-0b6d-4f02-ab1f-24f47ed5df72",
   "metadata": {
    "tags": []
   },
   "outputs": [],
   "source": [
    "symbols = [\"H\",\"Be\",\"H\"]\n",
    "dist = 1.291\n",
    "geometry = angstrom_to_bohr(np.array([[0, 0, -dist], [0., 0, 0], [0, 0, dist]]))\n",
    "mol = qml.qchem.Molecule(symbols, geometry)"
   ]
  },
  {
   "cell_type": "code",
   "execution_count": 26,
   "id": "d13047ca-5bb5-4da8-85e0-e3c11ea67059",
   "metadata": {
    "tags": []
   },
   "outputs": [],
   "source": [
    "active_electrons = 4\n",
    "active_orbitals = 6\n",
    "\n",
    "H, qubits = qml.qchem.molecular_hamiltonian(mol.symbols,\n",
    "                                            mol.coordinates,\n",
    "                                            active_electrons=active_electrons,\n",
    "                                            active_orbitals=active_orbitals,\n",
    "                                            grouping_method = 'qwc',\n",
    "                                            args=[mol.coordinates])"
   ]
  },
  {
   "cell_type": "markdown",
   "id": "650074b8-5532-4fa6-947c-67ab4353cd99",
   "metadata": {},
   "source": [
    "### Tapering"
   ]
  },
  {
   "cell_type": "code",
   "execution_count": 27,
   "id": "7eeac142-f478-4b82-b8f9-db2530dcdcc9",
   "metadata": {
    "tags": []
   },
   "outputs": [],
   "source": [
    "generators = qml.symmetry_generators(H)\n",
    "paulixops = qml.paulix_ops(generators, qubits)\n",
    "paulix_sector = qml.qchem.optimal_sector(H, generators, active_electrons)\n",
    "\n",
    "H_tapered = qml.taper(H, generators, paulixops, paulix_sector)"
   ]
  },
  {
   "cell_type": "code",
   "execution_count": 28,
   "id": "8a6c5a09-4c33-4872-ae40-60648e618a39",
   "metadata": {
    "tags": []
   },
   "outputs": [],
   "source": [
    "qubits_tap = qubits-len(paulixops)\n",
    "wire_tapered = [ paulixops[i].wires[0] for i in range(len(paulixops))]\n",
    "wire_tap = [ x for x in range(qubits) if not x in wire_tapered ]\n",
    "wire_map = {wire:i for i,wire in enumerate(wire_tap)}"
   ]
  },
  {
   "cell_type": "code",
   "execution_count": 30,
   "id": "08138039-ea02-4255-8992-575997ce8173",
   "metadata": {
    "tags": []
   },
   "outputs": [],
   "source": [
    "dev = qml.device(\"lightning.gpu\", wires=qubits_tap)\n",
    "@qml.qnode(dev)\n",
    "def expect(P, input_state):\n",
    "    qml.QubitStateVector(input_state, range(qubits_tap))\n",
    "            \n",
    "    return qml.expval(P)\n",
    "\n",
    "\n",
    "def expectation_value(input_state, P1, P2, P3=None):    \n",
    "    if P3 is None:\n",
    "        P, phase = pauli_mult_with_phase(P1, P2)\n",
    "    else:\n",
    "        P_, phase_ = pauli_mult_with_phase(P1, P3)\n",
    "        P, phase = pauli_mult_with_phase(P_ ,P2)\n",
    "        phase += phase_\n",
    "\n",
    "    return np.exp(1j * np.pi * phase / 2) * expect(P, input_state)"
   ]
  },
  {
   "cell_type": "code",
   "execution_count": 31,
   "id": "1280d0e2-80cb-4b80-b758-270e5e33dd87",
   "metadata": {
    "tags": []
   },
   "outputs": [],
   "source": [
    "# Construct the overlap matrix S\n",
    "def S_mat(input_state, basis):\n",
    "    N = len(basis)\n",
    "    S_mat = np.ones((N, N), dtype=complex)\n",
    "    for i in range(N):\n",
    "        for j in range(i):\n",
    "            S_mat[i,j] = expectation_value(input_state, \n",
    "                                           string_to_pauli_word(basis[i]),\n",
    "                                           string_to_pauli_word(basis[j]))\n",
    "            S_mat[j,i] = S_mat[i,j].conjugate()\n",
    "    return S_mat"
   ]
  },
  {
   "cell_type": "code",
   "execution_count": 72,
   "id": "7ffe8887-95a3-4dc0-a043-1e0f51bb302d",
   "metadata": {
    "tags": []
   },
   "outputs": [],
   "source": [
    "# Construct the matrix D\n",
    "def D_mat(input_state, basis, H):\n",
    "    N = len(basis)\n",
    "    D_mat = np.zeros((N, N), dtype=complex)\n",
    "\n",
    "    for i in range(N):\n",
    "        print(i)\n",
    "        for j in range(i):\n",
    "            D_mat[i, j] = sum(H.coeffs[k] * expectation_value(input_state, string_to_pauli_word(basis[i]),\n",
    "                                                              string_to_pauli_word(basis[j]), H.ops[k])\n",
    "                              for k in range(len(H.coeffs)))\n",
    "            D_mat[j, i] = D_mat[i,j].conjugate()\n",
    "            \n",
    "        D_mat[i, i] = sum(H.coeffs[k] * expectation_value(input_state, string_to_pauli_word(basis[i]),\n",
    "                                                          string_to_pauli_word(basis[i]), H.ops[k])\n",
    "                          for k in range(len(H.coeffs))).real\n",
    "    return D_mat"
   ]
  },
  {
   "cell_type": "markdown",
   "id": "012aeb1f-8e17-4830-9bf2-cc537ef42f34",
   "metadata": {},
   "source": [
    "### Generalized eigenvalue problem"
   ]
  },
  {
   "cell_type": "code",
   "execution_count": 81,
   "id": "9643960a-8ea5-422a-bd92-9222bfa3721d",
   "metadata": {
    "tags": []
   },
   "outputs": [
    {
     "data": {
      "text/plain": [
       "7"
      ]
     },
     "execution_count": 81,
     "metadata": {},
     "output_type": "execute_result"
    }
   ],
   "source": [
    "# pauli_word_to_string(H_tapered.ops[4], wire_map)\n",
    "qubits_tap"
   ]
  },
  {
   "cell_type": "code",
   "execution_count": 78,
   "id": "58dc3f4c-1fba-43b0-be06-ac232e6abbdb",
   "metadata": {
    "tags": []
   },
   "outputs": [
    {
     "name": "stdout",
     "output_type": "stream",
     "text": [
      "0\n",
      "1\n",
      "2\n",
      "3\n",
      "4\n"
     ]
    },
    {
     "ename": "WireError",
     "evalue": "Wire with label 8 not found in <Wires = [0, 1, 2, 3, 4, 5, 6]>.",
     "output_type": "error",
     "traceback": [
      "\u001b[0;31m---------------------------------------------------------------------------\u001b[0m",
      "\u001b[0;31mValueError\u001b[0m                                Traceback (most recent call last)",
      "File \u001b[0;32m/opt/conda/lib/python3.10/site-packages/pennylane/wires.py:233\u001b[0m, in \u001b[0;36mWires.index\u001b[0;34m(self, wire)\u001b[0m\n\u001b[1;32m    232\u001b[0m \u001b[38;5;28;01mtry\u001b[39;00m:\n\u001b[0;32m--> 233\u001b[0m     \u001b[38;5;28;01mreturn\u001b[39;00m \u001b[38;5;28;43mself\u001b[39;49m\u001b[38;5;241;43m.\u001b[39;49m\u001b[43m_labels\u001b[49m\u001b[38;5;241;43m.\u001b[39;49m\u001b[43mindex\u001b[49m\u001b[43m(\u001b[49m\u001b[43mwire\u001b[49m\u001b[43m)\u001b[49m\n\u001b[1;32m    234\u001b[0m \u001b[38;5;28;01mexcept\u001b[39;00m \u001b[38;5;167;01mValueError\u001b[39;00m \u001b[38;5;28;01mas\u001b[39;00m e:\n",
      "\u001b[0;31mValueError\u001b[0m: tuple.index(x): x not in tuple",
      "\nThe above exception was the direct cause of the following exception:\n",
      "\u001b[0;31mWireError\u001b[0m                                 Traceback (most recent call last)",
      "Cell \u001b[0;32mIn[78], line 4\u001b[0m\n\u001b[1;32m      2\u001b[0m \u001b[38;5;28;01mfor\u001b[39;00m k \u001b[38;5;129;01min\u001b[39;00m \u001b[38;5;28mrange\u001b[39m(\u001b[38;5;28mlen\u001b[39m(H_tapered\u001b[38;5;241m.\u001b[39mcoeffs)):\n\u001b[1;32m      3\u001b[0m     \u001b[38;5;28mprint\u001b[39m(k)\n\u001b[0;32m----> 4\u001b[0m     s \u001b[38;5;241m+\u001b[39m\u001b[38;5;241m=\u001b[39m H_tapered\u001b[38;5;241m.\u001b[39mcoeffs[k] \u001b[38;5;241m*\u001b[39m \u001b[43mexpectation_value\u001b[49m\u001b[43m(\u001b[49m\u001b[43minput_state\u001b[49m\u001b[43m,\u001b[49m\u001b[43m \u001b[49m\u001b[43mstring_to_pauli_word\u001b[49m\u001b[43m(\u001b[49m\u001b[43mbasis\u001b[49m\u001b[43m[\u001b[49m\u001b[38;5;241;43m1\u001b[39;49m\u001b[43m]\u001b[49m\u001b[43m)\u001b[49m\u001b[43m,\u001b[49m\u001b[43m \u001b[49m\u001b[43mstring_to_pauli_word\u001b[49m\u001b[43m(\u001b[49m\u001b[43mbasis\u001b[49m\u001b[43m[\u001b[49m\u001b[38;5;241;43m1\u001b[39;49m\u001b[43m]\u001b[49m\u001b[43m)\u001b[49m\u001b[43m,\u001b[49m\u001b[43m \u001b[49m\u001b[43mH_tapered\u001b[49m\u001b[38;5;241;43m.\u001b[39;49m\u001b[43mops\u001b[49m\u001b[43m[\u001b[49m\u001b[43mk\u001b[49m\u001b[43m]\u001b[49m\u001b[43m)\u001b[49m\n\u001b[1;32m      5\u001b[0m s\n",
      "Cell \u001b[0;32mIn[30], line 17\u001b[0m, in \u001b[0;36mexpectation_value\u001b[0;34m(input_state, P1, P2, P3)\u001b[0m\n\u001b[1;32m     14\u001b[0m     P, phase \u001b[38;5;241m=\u001b[39m pauli_mult_with_phase(P_ ,P2)\n\u001b[1;32m     15\u001b[0m     phase \u001b[38;5;241m+\u001b[39m\u001b[38;5;241m=\u001b[39m phase_\n\u001b[0;32m---> 17\u001b[0m \u001b[38;5;28;01mreturn\u001b[39;00m np\u001b[38;5;241m.\u001b[39mexp(\u001b[38;5;241m1\u001b[39mj \u001b[38;5;241m*\u001b[39m np\u001b[38;5;241m.\u001b[39mpi \u001b[38;5;241m*\u001b[39m phase \u001b[38;5;241m/\u001b[39m \u001b[38;5;241m2\u001b[39m) \u001b[38;5;241m*\u001b[39m \u001b[43mexpect\u001b[49m\u001b[43m(\u001b[49m\u001b[43mP\u001b[49m\u001b[43m,\u001b[49m\u001b[43m \u001b[49m\u001b[43minput_state\u001b[49m\u001b[43m)\u001b[49m\n",
      "File \u001b[0;32m/opt/conda/lib/python3.10/site-packages/pennylane/qnode.py:847\u001b[0m, in \u001b[0;36mQNode.__call__\u001b[0;34m(self, *args, **kwargs)\u001b[0m\n\u001b[1;32m    843\u001b[0m     \u001b[38;5;28mself\u001b[39m\u001b[38;5;241m.\u001b[39m_update_original_device()\n\u001b[1;32m    845\u001b[0m     \u001b[38;5;28;01mreturn\u001b[39;00m res\n\u001b[0;32m--> 847\u001b[0m res \u001b[38;5;241m=\u001b[39m \u001b[43mqml\u001b[49m\u001b[38;5;241;43m.\u001b[39;49m\u001b[43mexecute\u001b[49m\u001b[43m(\u001b[49m\n\u001b[1;32m    848\u001b[0m \u001b[43m    \u001b[49m\u001b[43m[\u001b[49m\u001b[38;5;28;43mself\u001b[39;49m\u001b[38;5;241;43m.\u001b[39;49m\u001b[43mtape\u001b[49m\u001b[43m]\u001b[49m\u001b[43m,\u001b[49m\n\u001b[1;32m    849\u001b[0m \u001b[43m    \u001b[49m\u001b[43mdevice\u001b[49m\u001b[38;5;241;43m=\u001b[39;49m\u001b[38;5;28;43mself\u001b[39;49m\u001b[38;5;241;43m.\u001b[39;49m\u001b[43mdevice\u001b[49m\u001b[43m,\u001b[49m\n\u001b[1;32m    850\u001b[0m \u001b[43m    \u001b[49m\u001b[43mgradient_fn\u001b[49m\u001b[38;5;241;43m=\u001b[39;49m\u001b[38;5;28;43mself\u001b[39;49m\u001b[38;5;241;43m.\u001b[39;49m\u001b[43mgradient_fn\u001b[49m\u001b[43m,\u001b[49m\n\u001b[1;32m    851\u001b[0m \u001b[43m    \u001b[49m\u001b[43minterface\u001b[49m\u001b[38;5;241;43m=\u001b[39;49m\u001b[38;5;28;43mself\u001b[39;49m\u001b[38;5;241;43m.\u001b[39;49m\u001b[43minterface\u001b[49m\u001b[43m,\u001b[49m\n\u001b[1;32m    852\u001b[0m \u001b[43m    \u001b[49m\u001b[43mgradient_kwargs\u001b[49m\u001b[38;5;241;43m=\u001b[39;49m\u001b[38;5;28;43mself\u001b[39;49m\u001b[38;5;241;43m.\u001b[39;49m\u001b[43mgradient_kwargs\u001b[49m\u001b[43m,\u001b[49m\n\u001b[1;32m    853\u001b[0m \u001b[43m    \u001b[49m\u001b[43moverride_shots\u001b[49m\u001b[38;5;241;43m=\u001b[39;49m\u001b[43moverride_shots\u001b[49m\u001b[43m,\u001b[49m\n\u001b[1;32m    854\u001b[0m \u001b[43m    \u001b[49m\u001b[38;5;241;43m*\u001b[39;49m\u001b[38;5;241;43m*\u001b[39;49m\u001b[38;5;28;43mself\u001b[39;49m\u001b[38;5;241;43m.\u001b[39;49m\u001b[43mexecute_kwargs\u001b[49m\u001b[43m,\u001b[49m\n\u001b[1;32m    855\u001b[0m \u001b[43m\u001b[49m\u001b[43m)\u001b[49m\n\u001b[1;32m    857\u001b[0m \u001b[38;5;28;01mif\u001b[39;00m old_interface \u001b[38;5;241m==\u001b[39m \u001b[38;5;124m\"\u001b[39m\u001b[38;5;124mauto\u001b[39m\u001b[38;5;124m\"\u001b[39m:\n\u001b[1;32m    858\u001b[0m     \u001b[38;5;28mself\u001b[39m\u001b[38;5;241m.\u001b[39minterface \u001b[38;5;241m=\u001b[39m \u001b[38;5;124m\"\u001b[39m\u001b[38;5;124mauto\u001b[39m\u001b[38;5;124m\"\u001b[39m\n",
      "File \u001b[0;32m/opt/conda/lib/python3.10/site-packages/pennylane/interfaces/execution.py:724\u001b[0m, in \u001b[0;36mexecute\u001b[0;34m(tapes, device, gradient_fn, interface, mode, gradient_kwargs, cache, cachesize, max_diff, override_shots, expand_fn, max_expansion, device_batch_transform)\u001b[0m\n\u001b[1;32m    718\u001b[0m \u001b[38;5;28;01mexcept\u001b[39;00m \u001b[38;5;167;01mImportError\u001b[39;00m \u001b[38;5;28;01mas\u001b[39;00m e:\n\u001b[1;32m    719\u001b[0m     \u001b[38;5;28;01mraise\u001b[39;00m qml\u001b[38;5;241m.\u001b[39mQuantumFunctionError(\n\u001b[1;32m    720\u001b[0m         \u001b[38;5;124mf\u001b[39m\u001b[38;5;124m\"\u001b[39m\u001b[38;5;132;01m{\u001b[39;00mmapped_interface\u001b[38;5;132;01m}\u001b[39;00m\u001b[38;5;124m not found. Please install the latest \u001b[39m\u001b[38;5;124m\"\u001b[39m\n\u001b[1;32m    721\u001b[0m         \u001b[38;5;124mf\u001b[39m\u001b[38;5;124m\"\u001b[39m\u001b[38;5;124mversion of \u001b[39m\u001b[38;5;132;01m{\u001b[39;00mmapped_interface\u001b[38;5;132;01m}\u001b[39;00m\u001b[38;5;124m to enable the \u001b[39m\u001b[38;5;124m'\u001b[39m\u001b[38;5;132;01m{\u001b[39;00mmapped_interface\u001b[38;5;132;01m}\u001b[39;00m\u001b[38;5;124m'\u001b[39m\u001b[38;5;124m interface.\u001b[39m\u001b[38;5;124m\"\u001b[39m\n\u001b[1;32m    722\u001b[0m     ) \u001b[38;5;28;01mfrom\u001b[39;00m \u001b[38;5;21;01me\u001b[39;00m\n\u001b[0;32m--> 724\u001b[0m res \u001b[38;5;241m=\u001b[39m \u001b[43m_execute\u001b[49m\u001b[43m(\u001b[49m\n\u001b[1;32m    725\u001b[0m \u001b[43m    \u001b[49m\u001b[43mtapes\u001b[49m\u001b[43m,\u001b[49m\u001b[43m \u001b[49m\u001b[43mdevice\u001b[49m\u001b[43m,\u001b[49m\u001b[43m \u001b[49m\u001b[43mexecute_fn\u001b[49m\u001b[43m,\u001b[49m\u001b[43m \u001b[49m\u001b[43mgradient_fn\u001b[49m\u001b[43m,\u001b[49m\u001b[43m \u001b[49m\u001b[43mgradient_kwargs\u001b[49m\u001b[43m,\u001b[49m\u001b[43m \u001b[49m\u001b[43m_n\u001b[49m\u001b[38;5;241;43m=\u001b[39;49m\u001b[38;5;241;43m1\u001b[39;49m\u001b[43m,\u001b[49m\u001b[43m \u001b[49m\u001b[43mmax_diff\u001b[49m\u001b[38;5;241;43m=\u001b[39;49m\u001b[43mmax_diff\u001b[49m\u001b[43m,\u001b[49m\u001b[43m \u001b[49m\u001b[43mmode\u001b[49m\u001b[38;5;241;43m=\u001b[39;49m\u001b[43m_mode\u001b[49m\n\u001b[1;32m    726\u001b[0m \u001b[43m\u001b[49m\u001b[43m)\u001b[49m\n\u001b[1;32m    728\u001b[0m \u001b[38;5;28;01mreturn\u001b[39;00m batch_fn(res)\n",
      "File \u001b[0;32m/opt/conda/lib/python3.10/site-packages/pennylane/interfaces/autograd.py:81\u001b[0m, in \u001b[0;36mexecute\u001b[0;34m(tapes, device, execute_fn, gradient_fn, gradient_kwargs, _n, max_diff, mode)\u001b[0m\n\u001b[1;32m     75\u001b[0m \u001b[38;5;66;03m# pylint misidentifies autograd.builtins as a dict\u001b[39;00m\n\u001b[1;32m     76\u001b[0m \u001b[38;5;66;03m# pylint: disable=no-member\u001b[39;00m\n\u001b[1;32m     77\u001b[0m parameters \u001b[38;5;241m=\u001b[39m autograd\u001b[38;5;241m.\u001b[39mbuiltins\u001b[38;5;241m.\u001b[39mtuple(\n\u001b[1;32m     78\u001b[0m     [autograd\u001b[38;5;241m.\u001b[39mbuiltins\u001b[38;5;241m.\u001b[39mlist(t\u001b[38;5;241m.\u001b[39mget_parameters()) \u001b[38;5;28;01mfor\u001b[39;00m t \u001b[38;5;129;01min\u001b[39;00m tapes]\n\u001b[1;32m     79\u001b[0m )\n\u001b[0;32m---> 81\u001b[0m \u001b[38;5;28;01mreturn\u001b[39;00m \u001b[43m_execute\u001b[49m\u001b[43m(\u001b[49m\n\u001b[1;32m     82\u001b[0m \u001b[43m    \u001b[49m\u001b[43mparameters\u001b[49m\u001b[43m,\u001b[49m\n\u001b[1;32m     83\u001b[0m \u001b[43m    \u001b[49m\u001b[43mtapes\u001b[49m\u001b[38;5;241;43m=\u001b[39;49m\u001b[43mtapes\u001b[49m\u001b[43m,\u001b[49m\n\u001b[1;32m     84\u001b[0m \u001b[43m    \u001b[49m\u001b[43mdevice\u001b[49m\u001b[38;5;241;43m=\u001b[39;49m\u001b[43mdevice\u001b[49m\u001b[43m,\u001b[49m\n\u001b[1;32m     85\u001b[0m \u001b[43m    \u001b[49m\u001b[43mexecute_fn\u001b[49m\u001b[38;5;241;43m=\u001b[39;49m\u001b[43mexecute_fn\u001b[49m\u001b[43m,\u001b[49m\n\u001b[1;32m     86\u001b[0m \u001b[43m    \u001b[49m\u001b[43mgradient_fn\u001b[49m\u001b[38;5;241;43m=\u001b[39;49m\u001b[43mgradient_fn\u001b[49m\u001b[43m,\u001b[49m\n\u001b[1;32m     87\u001b[0m \u001b[43m    \u001b[49m\u001b[43mgradient_kwargs\u001b[49m\u001b[38;5;241;43m=\u001b[39;49m\u001b[43mgradient_kwargs\u001b[49m\u001b[43m,\u001b[49m\n\u001b[1;32m     88\u001b[0m \u001b[43m    \u001b[49m\u001b[43m_n\u001b[49m\u001b[38;5;241;43m=\u001b[39;49m\u001b[43m_n\u001b[49m\u001b[43m,\u001b[49m\n\u001b[1;32m     89\u001b[0m \u001b[43m    \u001b[49m\u001b[43mmax_diff\u001b[49m\u001b[38;5;241;43m=\u001b[39;49m\u001b[43mmax_diff\u001b[49m\u001b[43m,\u001b[49m\n\u001b[1;32m     90\u001b[0m \u001b[43m\u001b[49m\u001b[43m)\u001b[49m[\u001b[38;5;241m0\u001b[39m]\n",
      "File \u001b[0;32m/opt/conda/lib/python3.10/site-packages/autograd/tracer.py:48\u001b[0m, in \u001b[0;36mprimitive.<locals>.f_wrapped\u001b[0;34m(*args, **kwargs)\u001b[0m\n\u001b[1;32m     46\u001b[0m     \u001b[38;5;28;01mreturn\u001b[39;00m new_box(ans, trace, node)\n\u001b[1;32m     47\u001b[0m \u001b[38;5;28;01melse\u001b[39;00m:\n\u001b[0;32m---> 48\u001b[0m     \u001b[38;5;28;01mreturn\u001b[39;00m \u001b[43mf_raw\u001b[49m\u001b[43m(\u001b[49m\u001b[38;5;241;43m*\u001b[39;49m\u001b[43margs\u001b[49m\u001b[43m,\u001b[49m\u001b[43m \u001b[49m\u001b[38;5;241;43m*\u001b[39;49m\u001b[38;5;241;43m*\u001b[39;49m\u001b[43mkwargs\u001b[49m\u001b[43m)\u001b[49m\n",
      "File \u001b[0;32m/opt/conda/lib/python3.10/site-packages/pennylane/interfaces/autograd.py:125\u001b[0m, in \u001b[0;36m_execute\u001b[0;34m(parameters, tapes, device, execute_fn, gradient_fn, gradient_kwargs, _n, max_diff)\u001b[0m\n\u001b[1;32m    104\u001b[0m \u001b[38;5;250m\u001b[39m\u001b[38;5;124;03m\"\"\"Autodifferentiable wrapper around ``Device.batch_execute``.\u001b[39;00m\n\u001b[1;32m    105\u001b[0m \n\u001b[1;32m    106\u001b[0m \u001b[38;5;124;03mThe signature of this function is designed to work around Autograd restrictions.\u001b[39;00m\n\u001b[0;32m   (...)\u001b[0m\n\u001b[1;32m    122\u001b[0m \u001b[38;5;124;03munderstand the consequences!\u001b[39;00m\n\u001b[1;32m    123\u001b[0m \u001b[38;5;124;03m\"\"\"\u001b[39;00m\n\u001b[1;32m    124\u001b[0m \u001b[38;5;28;01mwith\u001b[39;00m qml\u001b[38;5;241m.\u001b[39mtape\u001b[38;5;241m.\u001b[39mUnwrap(\u001b[38;5;241m*\u001b[39mtapes):\n\u001b[0;32m--> 125\u001b[0m     res, jacs \u001b[38;5;241m=\u001b[39m \u001b[43mexecute_fn\u001b[49m\u001b[43m(\u001b[49m\u001b[43mtapes\u001b[49m\u001b[43m,\u001b[49m\u001b[43m \u001b[49m\u001b[38;5;241;43m*\u001b[39;49m\u001b[38;5;241;43m*\u001b[39;49m\u001b[43mgradient_kwargs\u001b[49m\u001b[43m)\u001b[49m\n\u001b[1;32m    127\u001b[0m \u001b[38;5;28;01mfor\u001b[39;00m i, r \u001b[38;5;129;01min\u001b[39;00m \u001b[38;5;28menumerate\u001b[39m(res):\n\u001b[1;32m    128\u001b[0m     \u001b[38;5;28;01mif\u001b[39;00m \u001b[38;5;28many\u001b[39m(\u001b[38;5;28misinstance\u001b[39m(m, CountsMP) \u001b[38;5;28;01mfor\u001b[39;00m m \u001b[38;5;129;01min\u001b[39;00m tapes[i]\u001b[38;5;241m.\u001b[39mmeasurements):\n",
      "File \u001b[0;32m/opt/conda/lib/python3.10/site-packages/pennylane/interfaces/execution.py:206\u001b[0m, in \u001b[0;36mcache_execute.<locals>.wrapper\u001b[0;34m(tapes, **kwargs)\u001b[0m\n\u001b[1;32m    202\u001b[0m         \u001b[38;5;28;01mreturn\u001b[39;00m (res, []) \u001b[38;5;28;01mif\u001b[39;00m return_tuple \u001b[38;5;28;01melse\u001b[39;00m res\n\u001b[1;32m    204\u001b[0m \u001b[38;5;28;01melse\u001b[39;00m:\n\u001b[1;32m    205\u001b[0m     \u001b[38;5;66;03m# execute all unique tapes that do not exist in the cache\u001b[39;00m\n\u001b[0;32m--> 206\u001b[0m     res \u001b[38;5;241m=\u001b[39m \u001b[43mfn\u001b[49m\u001b[43m(\u001b[49m\u001b[43mexecution_tapes\u001b[49m\u001b[38;5;241;43m.\u001b[39;49m\u001b[43mvalues\u001b[49m\u001b[43m(\u001b[49m\u001b[43m)\u001b[49m\u001b[43m,\u001b[49m\u001b[43m \u001b[49m\u001b[38;5;241;43m*\u001b[39;49m\u001b[38;5;241;43m*\u001b[39;49m\u001b[43mkwargs\u001b[49m\u001b[43m)\u001b[49m\n\u001b[1;32m    208\u001b[0m final_res \u001b[38;5;241m=\u001b[39m []\n\u001b[1;32m    210\u001b[0m \u001b[38;5;28;01mfor\u001b[39;00m i, tape \u001b[38;5;129;01min\u001b[39;00m \u001b[38;5;28menumerate\u001b[39m(tapes):\n",
      "File \u001b[0;32m/opt/conda/lib/python3.10/site-packages/pennylane/interfaces/execution.py:131\u001b[0m, in \u001b[0;36mcache_execute.<locals>.fn\u001b[0;34m(tapes, **kwargs)\u001b[0m\n\u001b[1;32m    129\u001b[0m \u001b[38;5;28;01mdef\u001b[39;00m \u001b[38;5;21mfn\u001b[39m(tapes: Sequence[QuantumTape], \u001b[38;5;241m*\u001b[39m\u001b[38;5;241m*\u001b[39mkwargs):  \u001b[38;5;66;03m# pylint: disable=function-redefined\u001b[39;00m\n\u001b[1;32m    130\u001b[0m     tapes \u001b[38;5;241m=\u001b[39m [expand_fn(tape) \u001b[38;5;28;01mfor\u001b[39;00m tape \u001b[38;5;129;01min\u001b[39;00m tapes]\n\u001b[0;32m--> 131\u001b[0m     \u001b[38;5;28;01mreturn\u001b[39;00m \u001b[43moriginal_fn\u001b[49m\u001b[43m(\u001b[49m\u001b[43mtapes\u001b[49m\u001b[43m,\u001b[49m\u001b[43m \u001b[49m\u001b[38;5;241;43m*\u001b[39;49m\u001b[38;5;241;43m*\u001b[39;49m\u001b[43mkwargs\u001b[49m\u001b[43m)\u001b[49m\n",
      "File \u001b[0;32m/opt/conda/lib/python3.10/contextlib.py:79\u001b[0m, in \u001b[0;36mContextDecorator.__call__.<locals>.inner\u001b[0;34m(*args, **kwds)\u001b[0m\n\u001b[1;32m     76\u001b[0m \u001b[38;5;129m@wraps\u001b[39m(func)\n\u001b[1;32m     77\u001b[0m \u001b[38;5;28;01mdef\u001b[39;00m \u001b[38;5;21minner\u001b[39m(\u001b[38;5;241m*\u001b[39margs, \u001b[38;5;241m*\u001b[39m\u001b[38;5;241m*\u001b[39mkwds):\n\u001b[1;32m     78\u001b[0m     \u001b[38;5;28;01mwith\u001b[39;00m \u001b[38;5;28mself\u001b[39m\u001b[38;5;241m.\u001b[39m_recreate_cm():\n\u001b[0;32m---> 79\u001b[0m         \u001b[38;5;28;01mreturn\u001b[39;00m \u001b[43mfunc\u001b[49m\u001b[43m(\u001b[49m\u001b[38;5;241;43m*\u001b[39;49m\u001b[43margs\u001b[49m\u001b[43m,\u001b[49m\u001b[43m \u001b[49m\u001b[38;5;241;43m*\u001b[39;49m\u001b[38;5;241;43m*\u001b[39;49m\u001b[43mkwds\u001b[49m\u001b[43m)\u001b[49m\n",
      "File \u001b[0;32m/opt/conda/lib/python3.10/site-packages/pennylane/_qubit_device.py:656\u001b[0m, in \u001b[0;36mQubitDevice.batch_execute\u001b[0;34m(self, circuits)\u001b[0m\n\u001b[1;32m    653\u001b[0m     \u001b[38;5;28mself\u001b[39m\u001b[38;5;241m.\u001b[39mreset()\n\u001b[1;32m    655\u001b[0m     \u001b[38;5;66;03m# TODO: Insert control on value here\u001b[39;00m\n\u001b[0;32m--> 656\u001b[0m     res \u001b[38;5;241m=\u001b[39m \u001b[38;5;28;43mself\u001b[39;49m\u001b[38;5;241;43m.\u001b[39;49m\u001b[43mexecute\u001b[49m\u001b[43m(\u001b[49m\u001b[43mcircuit\u001b[49m\u001b[43m)\u001b[49m\n\u001b[1;32m    657\u001b[0m     results\u001b[38;5;241m.\u001b[39mappend(res)\n\u001b[1;32m    659\u001b[0m \u001b[38;5;28;01mif\u001b[39;00m \u001b[38;5;28mself\u001b[39m\u001b[38;5;241m.\u001b[39mtracker\u001b[38;5;241m.\u001b[39mactive:\n",
      "File \u001b[0;32m/opt/conda/lib/python3.10/site-packages/pennylane/_qubit_device.py:445\u001b[0m, in \u001b[0;36mQubitDevice.execute\u001b[0;34m(self, circuit, **kwargs)\u001b[0m\n\u001b[1;32m    443\u001b[0m     results \u001b[38;5;241m=\u001b[39m \u001b[38;5;28mself\u001b[39m\u001b[38;5;241m.\u001b[39m_collect_shotvector_results(circuit, counts_exist)\n\u001b[1;32m    444\u001b[0m \u001b[38;5;28;01melse\u001b[39;00m:\n\u001b[0;32m--> 445\u001b[0m     results \u001b[38;5;241m=\u001b[39m \u001b[38;5;28;43mself\u001b[39;49m\u001b[38;5;241;43m.\u001b[39;49m\u001b[43mstatistics\u001b[49m\u001b[43m(\u001b[49m\u001b[43mcircuit\u001b[49m\u001b[38;5;241;43m=\u001b[39;49m\u001b[43mcircuit\u001b[49m\u001b[43m)\u001b[49m\n\u001b[1;32m    447\u001b[0m \u001b[38;5;28;01mif\u001b[39;00m \u001b[38;5;129;01mnot\u001b[39;00m circuit\u001b[38;5;241m.\u001b[39mis_sampled:\n\u001b[1;32m    449\u001b[0m     \u001b[38;5;28;01mif\u001b[39;00m \u001b[38;5;28mlen\u001b[39m(measurements) \u001b[38;5;241m==\u001b[39m \u001b[38;5;241m1\u001b[39m:\n",
      "File \u001b[0;32m/opt/conda/lib/python3.10/site-packages/pennylane_lightning_gpu/lightning_gpu.py:407\u001b[0m, in \u001b[0;36mLightningGPU.statistics\u001b[0;34m(self, circuit, shot_range, bin_size)\u001b[0m\n\u001b[1;32m    405\u001b[0m \u001b[38;5;28;01mdef\u001b[39;00m \u001b[38;5;21mstatistics\u001b[39m(\u001b[38;5;28mself\u001b[39m, circuit, shot_range\u001b[38;5;241m=\u001b[39m\u001b[38;5;28;01mNone\u001b[39;00m, bin_size\u001b[38;5;241m=\u001b[39m\u001b[38;5;28;01mNone\u001b[39;00m):\n\u001b[1;32m    406\u001b[0m     \u001b[38;5;66;03m## Ensure D2H sync before calculating non-GPU supported operations\u001b[39;00m\n\u001b[0;32m--> 407\u001b[0m     \u001b[38;5;28;01mreturn\u001b[39;00m \u001b[38;5;28;43msuper\u001b[39;49m\u001b[43m(\u001b[49m\u001b[43m)\u001b[49m\u001b[38;5;241;43m.\u001b[39;49m\u001b[43mstatistics\u001b[49m\u001b[43m(\u001b[49m\u001b[43mcircuit\u001b[49m\u001b[43m,\u001b[49m\u001b[43m \u001b[49m\u001b[43mshot_range\u001b[49m\u001b[43m,\u001b[49m\u001b[43m \u001b[49m\u001b[43mbin_size\u001b[49m\u001b[43m)\u001b[49m\n",
      "File \u001b[0;32m/opt/conda/lib/python3.10/site-packages/pennylane/_qubit_device.py:807\u001b[0m, in \u001b[0;36mQubitDevice.statistics\u001b[0;34m(self, observables, shot_range, bin_size, circuit)\u001b[0m\n\u001b[1;32m    803\u001b[0m \u001b[38;5;66;03m# TODO: Remove return_type when `observables` argument is removed from this method\u001b[39;00m\n\u001b[1;32m    804\u001b[0m \u001b[38;5;66;03m# Pass instances directly\u001b[39;00m\n\u001b[1;32m    805\u001b[0m \u001b[38;5;28;01melif\u001b[39;00m obs\u001b[38;5;241m.\u001b[39mreturn_type \u001b[38;5;129;01mis\u001b[39;00m Expectation:\n\u001b[1;32m    806\u001b[0m     \u001b[38;5;66;03m# Appends a result of shape (num_bins,) if bin_size is not None, else a scalar\u001b[39;00m\n\u001b[0;32m--> 807\u001b[0m     results\u001b[38;5;241m.\u001b[39mappend(\u001b[38;5;28;43mself\u001b[39;49m\u001b[38;5;241;43m.\u001b[39;49m\u001b[43mexpval\u001b[49m\u001b[43m(\u001b[49m\u001b[43mobs\u001b[49m\u001b[43m,\u001b[49m\u001b[43m \u001b[49m\u001b[43mshot_range\u001b[49m\u001b[38;5;241;43m=\u001b[39;49m\u001b[43mshot_range\u001b[49m\u001b[43m,\u001b[49m\u001b[43m \u001b[49m\u001b[43mbin_size\u001b[49m\u001b[38;5;241;43m=\u001b[39;49m\u001b[43mbin_size\u001b[49m\u001b[43m)\u001b[49m)\n\u001b[1;32m    809\u001b[0m \u001b[38;5;28;01melif\u001b[39;00m obs\u001b[38;5;241m.\u001b[39mreturn_type \u001b[38;5;129;01mis\u001b[39;00m Variance:\n\u001b[1;32m    810\u001b[0m     \u001b[38;5;66;03m# Appends a result of shape (num_bins,) if bin_size is not None, else a scalar\u001b[39;00m\n\u001b[1;32m    811\u001b[0m     results\u001b[38;5;241m.\u001b[39mappend(\u001b[38;5;28mself\u001b[39m\u001b[38;5;241m.\u001b[39mvar(obs, shot_range\u001b[38;5;241m=\u001b[39mshot_range, bin_size\u001b[38;5;241m=\u001b[39mbin_size))\n",
      "File \u001b[0;32m/opt/conda/lib/python3.10/site-packages/pennylane_lightning_gpu/lightning_gpu.py:743\u001b[0m, in \u001b[0;36mLightningGPU.expval\u001b[0;34m(self, observable, shot_range, bin_size)\u001b[0m\n\u001b[1;32m    729\u001b[0m         \u001b[38;5;28;01mreturn\u001b[39;00m \u001b[38;5;28mself\u001b[39m\u001b[38;5;241m.\u001b[39m_gpu_state\u001b[38;5;241m.\u001b[39mExpectationValue(\n\u001b[1;32m    730\u001b[0m             device_wires, qml\u001b[38;5;241m.\u001b[39mmatrix(observable)\u001b[38;5;241m.\u001b[39mravel(order\u001b[38;5;241m=\u001b[39m\u001b[38;5;124m\"\u001b[39m\u001b[38;5;124mC\u001b[39m\u001b[38;5;124m\"\u001b[39m)\n\u001b[1;32m    731\u001b[0m         )\n\u001b[1;32m    733\u001b[0m par \u001b[38;5;241m=\u001b[39m (\n\u001b[1;32m    734\u001b[0m     observable\u001b[38;5;241m.\u001b[39mparameters\n\u001b[1;32m    735\u001b[0m     \u001b[38;5;28;01mif\u001b[39;00m (\n\u001b[0;32m   (...)\u001b[0m\n\u001b[1;32m    739\u001b[0m     \u001b[38;5;28;01melse\u001b[39;00m []\n\u001b[1;32m    740\u001b[0m )\n\u001b[1;32m    741\u001b[0m \u001b[38;5;28;01mreturn\u001b[39;00m \u001b[38;5;28mself\u001b[39m\u001b[38;5;241m.\u001b[39m_gpu_state\u001b[38;5;241m.\u001b[39mExpectationValue(\n\u001b[1;32m    742\u001b[0m     observable\u001b[38;5;241m.\u001b[39mname,\n\u001b[0;32m--> 743\u001b[0m     \u001b[38;5;28;43mself\u001b[39;49m\u001b[38;5;241;43m.\u001b[39;49m\u001b[43mwires\u001b[49m\u001b[38;5;241;43m.\u001b[39;49m\u001b[43mindices\u001b[49m\u001b[43m(\u001b[49m\u001b[43mobservable\u001b[49m\u001b[38;5;241;43m.\u001b[39;49m\u001b[43mwires\u001b[49m\u001b[43m)\u001b[49m,\n\u001b[1;32m    744\u001b[0m     par,  \u001b[38;5;66;03m# observables should not pass parameters, use matrix instead\u001b[39;00m\n\u001b[1;32m    745\u001b[0m     qml\u001b[38;5;241m.\u001b[39mmatrix(observable)\u001b[38;5;241m.\u001b[39mravel(order\u001b[38;5;241m=\u001b[39m\u001b[38;5;124m\"\u001b[39m\u001b[38;5;124mC\u001b[39m\u001b[38;5;124m\"\u001b[39m),\n\u001b[1;32m    746\u001b[0m )\n",
      "File \u001b[0;32m/opt/conda/lib/python3.10/site-packages/pennylane/wires.py:259\u001b[0m, in \u001b[0;36mWires.indices\u001b[0;34m(self, wires)\u001b[0m\n\u001b[1;32m    256\u001b[0m \u001b[38;5;28;01mif\u001b[39;00m \u001b[38;5;129;01mnot\u001b[39;00m \u001b[38;5;28misinstance\u001b[39m(wires, Iterable):\n\u001b[1;32m    257\u001b[0m     \u001b[38;5;28;01mreturn\u001b[39;00m [\u001b[38;5;28mself\u001b[39m\u001b[38;5;241m.\u001b[39mindex(wires)]\n\u001b[0;32m--> 259\u001b[0m \u001b[38;5;28;01mreturn\u001b[39;00m [\u001b[38;5;28mself\u001b[39m\u001b[38;5;241m.\u001b[39mindex(w) \u001b[38;5;28;01mfor\u001b[39;00m w \u001b[38;5;129;01min\u001b[39;00m wires]\n",
      "File \u001b[0;32m/opt/conda/lib/python3.10/site-packages/pennylane/wires.py:259\u001b[0m, in \u001b[0;36m<listcomp>\u001b[0;34m(.0)\u001b[0m\n\u001b[1;32m    256\u001b[0m \u001b[38;5;28;01mif\u001b[39;00m \u001b[38;5;129;01mnot\u001b[39;00m \u001b[38;5;28misinstance\u001b[39m(wires, Iterable):\n\u001b[1;32m    257\u001b[0m     \u001b[38;5;28;01mreturn\u001b[39;00m [\u001b[38;5;28mself\u001b[39m\u001b[38;5;241m.\u001b[39mindex(wires)]\n\u001b[0;32m--> 259\u001b[0m \u001b[38;5;28;01mreturn\u001b[39;00m [\u001b[38;5;28;43mself\u001b[39;49m\u001b[38;5;241;43m.\u001b[39;49m\u001b[43mindex\u001b[49m\u001b[43m(\u001b[49m\u001b[43mw\u001b[49m\u001b[43m)\u001b[49m \u001b[38;5;28;01mfor\u001b[39;00m w \u001b[38;5;129;01min\u001b[39;00m wires]\n",
      "File \u001b[0;32m/opt/conda/lib/python3.10/site-packages/pennylane/wires.py:235\u001b[0m, in \u001b[0;36mWires.index\u001b[0;34m(self, wire)\u001b[0m\n\u001b[1;32m    233\u001b[0m     \u001b[38;5;28;01mreturn\u001b[39;00m \u001b[38;5;28mself\u001b[39m\u001b[38;5;241m.\u001b[39m_labels\u001b[38;5;241m.\u001b[39mindex(wire)\n\u001b[1;32m    234\u001b[0m \u001b[38;5;28;01mexcept\u001b[39;00m \u001b[38;5;167;01mValueError\u001b[39;00m \u001b[38;5;28;01mas\u001b[39;00m e:\n\u001b[0;32m--> 235\u001b[0m     \u001b[38;5;28;01mraise\u001b[39;00m WireError(\u001b[38;5;124mf\u001b[39m\u001b[38;5;124m\"\u001b[39m\u001b[38;5;124mWire with label \u001b[39m\u001b[38;5;132;01m{\u001b[39;00mwire\u001b[38;5;132;01m}\u001b[39;00m\u001b[38;5;124m not found in \u001b[39m\u001b[38;5;132;01m{\u001b[39;00m\u001b[38;5;28mself\u001b[39m\u001b[38;5;132;01m}\u001b[39;00m\u001b[38;5;124m.\u001b[39m\u001b[38;5;124m\"\u001b[39m) \u001b[38;5;28;01mfrom\u001b[39;00m \u001b[38;5;21;01me\u001b[39;00m\n",
      "\u001b[0;31mWireError\u001b[0m: Wire with label 8 not found in <Wires = [0, 1, 2, 3, 4, 5, 6]>."
     ]
    }
   ],
   "source": [
    "s = 0\n",
    "for k in range(len(H_tapered.coeffs)):\n",
    "    print(k)\n",
    "    s += H_tapered.coeffs[k] * expectation_value(input_state, string_to_pauli_word(basis[1]), string_to_pauli_word(basis[1]), H_tapered.ops[k])\n",
    "s"
   ]
  },
  {
   "cell_type": "code",
   "execution_count": null,
   "id": "de64674e-64d2-4784-920b-ef6d0cf1cf75",
   "metadata": {},
   "outputs": [],
   "source": []
  },
  {
   "cell_type": "code",
   "execution_count": 70,
   "id": "648390b2-f56c-42d3-b0a1-6678ed68c595",
   "metadata": {
    "tags": []
   },
   "outputs": [
    {
     "name": "stdout",
     "output_type": "stream",
     "text": [
      "(0.9749389319140243-6.672510373622864e-21j)\n"
     ]
    }
   ],
   "source": [
    "basis = ['IIIIIII','XIIIIII','IXIIIII','IIXIIII','IIIXIII','IIIIXII','IIIIIXI','IIIIIIX']\n",
    "\n",
    "S = S_mat(input_state, basis)\n",
    "print(det(S))"
   ]
  },
  {
   "cell_type": "code",
   "execution_count": 73,
   "id": "9a09ee5b-0048-4778-8b91-dff862dba680",
   "metadata": {
    "tags": []
   },
   "outputs": [
    {
     "name": "stdout",
     "output_type": "stream",
     "text": [
      "0\n"
     ]
    },
    {
     "ename": "WireError",
     "evalue": "Wire with label 8 not found in <Wires = [0, 1, 2, 3, 4, 5, 6]>.",
     "output_type": "error",
     "traceback": [
      "\u001b[0;31m---------------------------------------------------------------------------\u001b[0m",
      "\u001b[0;31mValueError\u001b[0m                                Traceback (most recent call last)",
      "File \u001b[0;32m/opt/conda/lib/python3.10/site-packages/pennylane/wires.py:233\u001b[0m, in \u001b[0;36mWires.index\u001b[0;34m(self, wire)\u001b[0m\n\u001b[1;32m    232\u001b[0m \u001b[38;5;28;01mtry\u001b[39;00m:\n\u001b[0;32m--> 233\u001b[0m     \u001b[38;5;28;01mreturn\u001b[39;00m \u001b[38;5;28;43mself\u001b[39;49m\u001b[38;5;241;43m.\u001b[39;49m\u001b[43m_labels\u001b[49m\u001b[38;5;241;43m.\u001b[39;49m\u001b[43mindex\u001b[49m\u001b[43m(\u001b[49m\u001b[43mwire\u001b[49m\u001b[43m)\u001b[49m\n\u001b[1;32m    234\u001b[0m \u001b[38;5;28;01mexcept\u001b[39;00m \u001b[38;5;167;01mValueError\u001b[39;00m \u001b[38;5;28;01mas\u001b[39;00m e:\n",
      "\u001b[0;31mValueError\u001b[0m: tuple.index(x): x not in tuple",
      "\nThe above exception was the direct cause of the following exception:\n",
      "\u001b[0;31mWireError\u001b[0m                                 Traceback (most recent call last)",
      "Cell \u001b[0;32mIn[73], line 1\u001b[0m\n\u001b[0;32m----> 1\u001b[0m D \u001b[38;5;241m=\u001b[39m \u001b[43mD_mat\u001b[49m\u001b[43m(\u001b[49m\u001b[43minput_state\u001b[49m\u001b[43m,\u001b[49m\u001b[43m \u001b[49m\u001b[43mbasis\u001b[49m\u001b[43m,\u001b[49m\u001b[43m \u001b[49m\u001b[43mH_tapered\u001b[49m\u001b[43m)\u001b[49m\n",
      "Cell \u001b[0;32mIn[72], line 14\u001b[0m, in \u001b[0;36mD_mat\u001b[0;34m(input_state, basis, H)\u001b[0m\n\u001b[1;32m      9\u001b[0m         D_mat[i, j] \u001b[38;5;241m=\u001b[39m \u001b[38;5;28msum\u001b[39m(H\u001b[38;5;241m.\u001b[39mcoeffs[k] \u001b[38;5;241m*\u001b[39m expectation_value(input_state, string_to_pauli_word(basis[i]),\n\u001b[1;32m     10\u001b[0m                                                           string_to_pauli_word(basis[j]), H\u001b[38;5;241m.\u001b[39mops[k])\n\u001b[1;32m     11\u001b[0m                           \u001b[38;5;28;01mfor\u001b[39;00m k \u001b[38;5;129;01min\u001b[39;00m \u001b[38;5;28mrange\u001b[39m(\u001b[38;5;28mlen\u001b[39m(H\u001b[38;5;241m.\u001b[39mcoeffs)))\n\u001b[1;32m     12\u001b[0m         D_mat[j, i] \u001b[38;5;241m=\u001b[39m D_mat[i,j]\u001b[38;5;241m.\u001b[39mconjugate()\n\u001b[0;32m---> 14\u001b[0m     D_mat[i, i] \u001b[38;5;241m=\u001b[39m \u001b[38;5;28;43msum\u001b[39;49m\u001b[43m(\u001b[49m\u001b[43mH\u001b[49m\u001b[38;5;241;43m.\u001b[39;49m\u001b[43mcoeffs\u001b[49m\u001b[43m[\u001b[49m\u001b[43mk\u001b[49m\u001b[43m]\u001b[49m\u001b[43m \u001b[49m\u001b[38;5;241;43m*\u001b[39;49m\u001b[43m \u001b[49m\u001b[43mexpectation_value\u001b[49m\u001b[43m(\u001b[49m\u001b[43minput_state\u001b[49m\u001b[43m,\u001b[49m\u001b[43m \u001b[49m\u001b[43mstring_to_pauli_word\u001b[49m\u001b[43m(\u001b[49m\u001b[43mbasis\u001b[49m\u001b[43m[\u001b[49m\u001b[43mi\u001b[49m\u001b[43m]\u001b[49m\u001b[43m)\u001b[49m\u001b[43m,\u001b[49m\n\u001b[1;32m     15\u001b[0m \u001b[43m                                                      \u001b[49m\u001b[43mstring_to_pauli_word\u001b[49m\u001b[43m(\u001b[49m\u001b[43mbasis\u001b[49m\u001b[43m[\u001b[49m\u001b[43mi\u001b[49m\u001b[43m]\u001b[49m\u001b[43m)\u001b[49m\u001b[43m,\u001b[49m\u001b[43m \u001b[49m\u001b[43mH\u001b[49m\u001b[38;5;241;43m.\u001b[39;49m\u001b[43mops\u001b[49m\u001b[43m[\u001b[49m\u001b[43mk\u001b[49m\u001b[43m]\u001b[49m\u001b[43m)\u001b[49m\n\u001b[1;32m     16\u001b[0m \u001b[43m                      \u001b[49m\u001b[38;5;28;43;01mfor\u001b[39;49;00m\u001b[43m \u001b[49m\u001b[43mk\u001b[49m\u001b[43m \u001b[49m\u001b[38;5;129;43;01min\u001b[39;49;00m\u001b[43m \u001b[49m\u001b[38;5;28;43mrange\u001b[39;49m\u001b[43m(\u001b[49m\u001b[38;5;28;43mlen\u001b[39;49m\u001b[43m(\u001b[49m\u001b[43mH\u001b[49m\u001b[38;5;241;43m.\u001b[39;49m\u001b[43mcoeffs\u001b[49m\u001b[43m)\u001b[49m\u001b[43m)\u001b[49m\u001b[43m)\u001b[49m\u001b[38;5;241m.\u001b[39mreal\n\u001b[1;32m     17\u001b[0m \u001b[38;5;28;01mreturn\u001b[39;00m D_mat\n",
      "Cell \u001b[0;32mIn[72], line 14\u001b[0m, in \u001b[0;36m<genexpr>\u001b[0;34m(.0)\u001b[0m\n\u001b[1;32m      9\u001b[0m         D_mat[i, j] \u001b[38;5;241m=\u001b[39m \u001b[38;5;28msum\u001b[39m(H\u001b[38;5;241m.\u001b[39mcoeffs[k] \u001b[38;5;241m*\u001b[39m expectation_value(input_state, string_to_pauli_word(basis[i]),\n\u001b[1;32m     10\u001b[0m                                                           string_to_pauli_word(basis[j]), H\u001b[38;5;241m.\u001b[39mops[k])\n\u001b[1;32m     11\u001b[0m                           \u001b[38;5;28;01mfor\u001b[39;00m k \u001b[38;5;129;01min\u001b[39;00m \u001b[38;5;28mrange\u001b[39m(\u001b[38;5;28mlen\u001b[39m(H\u001b[38;5;241m.\u001b[39mcoeffs)))\n\u001b[1;32m     12\u001b[0m         D_mat[j, i] \u001b[38;5;241m=\u001b[39m D_mat[i,j]\u001b[38;5;241m.\u001b[39mconjugate()\n\u001b[0;32m---> 14\u001b[0m     D_mat[i, i] \u001b[38;5;241m=\u001b[39m \u001b[38;5;28msum\u001b[39m(H\u001b[38;5;241m.\u001b[39mcoeffs[k] \u001b[38;5;241m*\u001b[39m \u001b[43mexpectation_value\u001b[49m\u001b[43m(\u001b[49m\u001b[43minput_state\u001b[49m\u001b[43m,\u001b[49m\u001b[43m \u001b[49m\u001b[43mstring_to_pauli_word\u001b[49m\u001b[43m(\u001b[49m\u001b[43mbasis\u001b[49m\u001b[43m[\u001b[49m\u001b[43mi\u001b[49m\u001b[43m]\u001b[49m\u001b[43m)\u001b[49m\u001b[43m,\u001b[49m\n\u001b[1;32m     15\u001b[0m \u001b[43m                                                      \u001b[49m\u001b[43mstring_to_pauli_word\u001b[49m\u001b[43m(\u001b[49m\u001b[43mbasis\u001b[49m\u001b[43m[\u001b[49m\u001b[43mi\u001b[49m\u001b[43m]\u001b[49m\u001b[43m)\u001b[49m\u001b[43m,\u001b[49m\u001b[43m \u001b[49m\u001b[43mH\u001b[49m\u001b[38;5;241;43m.\u001b[39;49m\u001b[43mops\u001b[49m\u001b[43m[\u001b[49m\u001b[43mk\u001b[49m\u001b[43m]\u001b[49m\u001b[43m)\u001b[49m\n\u001b[1;32m     16\u001b[0m                       \u001b[38;5;28;01mfor\u001b[39;00m k \u001b[38;5;129;01min\u001b[39;00m \u001b[38;5;28mrange\u001b[39m(\u001b[38;5;28mlen\u001b[39m(H\u001b[38;5;241m.\u001b[39mcoeffs)))\u001b[38;5;241m.\u001b[39mreal\n\u001b[1;32m     17\u001b[0m \u001b[38;5;28;01mreturn\u001b[39;00m D_mat\n",
      "Cell \u001b[0;32mIn[30], line 17\u001b[0m, in \u001b[0;36mexpectation_value\u001b[0;34m(input_state, P1, P2, P3)\u001b[0m\n\u001b[1;32m     14\u001b[0m     P, phase \u001b[38;5;241m=\u001b[39m pauli_mult_with_phase(P_ ,P2)\n\u001b[1;32m     15\u001b[0m     phase \u001b[38;5;241m+\u001b[39m\u001b[38;5;241m=\u001b[39m phase_\n\u001b[0;32m---> 17\u001b[0m \u001b[38;5;28;01mreturn\u001b[39;00m np\u001b[38;5;241m.\u001b[39mexp(\u001b[38;5;241m1\u001b[39mj \u001b[38;5;241m*\u001b[39m np\u001b[38;5;241m.\u001b[39mpi \u001b[38;5;241m*\u001b[39m phase \u001b[38;5;241m/\u001b[39m \u001b[38;5;241m2\u001b[39m) \u001b[38;5;241m*\u001b[39m \u001b[43mexpect\u001b[49m\u001b[43m(\u001b[49m\u001b[43mP\u001b[49m\u001b[43m,\u001b[49m\u001b[43m \u001b[49m\u001b[43minput_state\u001b[49m\u001b[43m)\u001b[49m\n",
      "File \u001b[0;32m/opt/conda/lib/python3.10/site-packages/pennylane/qnode.py:847\u001b[0m, in \u001b[0;36mQNode.__call__\u001b[0;34m(self, *args, **kwargs)\u001b[0m\n\u001b[1;32m    843\u001b[0m     \u001b[38;5;28mself\u001b[39m\u001b[38;5;241m.\u001b[39m_update_original_device()\n\u001b[1;32m    845\u001b[0m     \u001b[38;5;28;01mreturn\u001b[39;00m res\n\u001b[0;32m--> 847\u001b[0m res \u001b[38;5;241m=\u001b[39m \u001b[43mqml\u001b[49m\u001b[38;5;241;43m.\u001b[39;49m\u001b[43mexecute\u001b[49m\u001b[43m(\u001b[49m\n\u001b[1;32m    848\u001b[0m \u001b[43m    \u001b[49m\u001b[43m[\u001b[49m\u001b[38;5;28;43mself\u001b[39;49m\u001b[38;5;241;43m.\u001b[39;49m\u001b[43mtape\u001b[49m\u001b[43m]\u001b[49m\u001b[43m,\u001b[49m\n\u001b[1;32m    849\u001b[0m \u001b[43m    \u001b[49m\u001b[43mdevice\u001b[49m\u001b[38;5;241;43m=\u001b[39;49m\u001b[38;5;28;43mself\u001b[39;49m\u001b[38;5;241;43m.\u001b[39;49m\u001b[43mdevice\u001b[49m\u001b[43m,\u001b[49m\n\u001b[1;32m    850\u001b[0m \u001b[43m    \u001b[49m\u001b[43mgradient_fn\u001b[49m\u001b[38;5;241;43m=\u001b[39;49m\u001b[38;5;28;43mself\u001b[39;49m\u001b[38;5;241;43m.\u001b[39;49m\u001b[43mgradient_fn\u001b[49m\u001b[43m,\u001b[49m\n\u001b[1;32m    851\u001b[0m \u001b[43m    \u001b[49m\u001b[43minterface\u001b[49m\u001b[38;5;241;43m=\u001b[39;49m\u001b[38;5;28;43mself\u001b[39;49m\u001b[38;5;241;43m.\u001b[39;49m\u001b[43minterface\u001b[49m\u001b[43m,\u001b[49m\n\u001b[1;32m    852\u001b[0m \u001b[43m    \u001b[49m\u001b[43mgradient_kwargs\u001b[49m\u001b[38;5;241;43m=\u001b[39;49m\u001b[38;5;28;43mself\u001b[39;49m\u001b[38;5;241;43m.\u001b[39;49m\u001b[43mgradient_kwargs\u001b[49m\u001b[43m,\u001b[49m\n\u001b[1;32m    853\u001b[0m \u001b[43m    \u001b[49m\u001b[43moverride_shots\u001b[49m\u001b[38;5;241;43m=\u001b[39;49m\u001b[43moverride_shots\u001b[49m\u001b[43m,\u001b[49m\n\u001b[1;32m    854\u001b[0m \u001b[43m    \u001b[49m\u001b[38;5;241;43m*\u001b[39;49m\u001b[38;5;241;43m*\u001b[39;49m\u001b[38;5;28;43mself\u001b[39;49m\u001b[38;5;241;43m.\u001b[39;49m\u001b[43mexecute_kwargs\u001b[49m\u001b[43m,\u001b[49m\n\u001b[1;32m    855\u001b[0m \u001b[43m\u001b[49m\u001b[43m)\u001b[49m\n\u001b[1;32m    857\u001b[0m \u001b[38;5;28;01mif\u001b[39;00m old_interface \u001b[38;5;241m==\u001b[39m \u001b[38;5;124m\"\u001b[39m\u001b[38;5;124mauto\u001b[39m\u001b[38;5;124m\"\u001b[39m:\n\u001b[1;32m    858\u001b[0m     \u001b[38;5;28mself\u001b[39m\u001b[38;5;241m.\u001b[39minterface \u001b[38;5;241m=\u001b[39m \u001b[38;5;124m\"\u001b[39m\u001b[38;5;124mauto\u001b[39m\u001b[38;5;124m\"\u001b[39m\n",
      "File \u001b[0;32m/opt/conda/lib/python3.10/site-packages/pennylane/interfaces/execution.py:724\u001b[0m, in \u001b[0;36mexecute\u001b[0;34m(tapes, device, gradient_fn, interface, mode, gradient_kwargs, cache, cachesize, max_diff, override_shots, expand_fn, max_expansion, device_batch_transform)\u001b[0m\n\u001b[1;32m    718\u001b[0m \u001b[38;5;28;01mexcept\u001b[39;00m \u001b[38;5;167;01mImportError\u001b[39;00m \u001b[38;5;28;01mas\u001b[39;00m e:\n\u001b[1;32m    719\u001b[0m     \u001b[38;5;28;01mraise\u001b[39;00m qml\u001b[38;5;241m.\u001b[39mQuantumFunctionError(\n\u001b[1;32m    720\u001b[0m         \u001b[38;5;124mf\u001b[39m\u001b[38;5;124m\"\u001b[39m\u001b[38;5;132;01m{\u001b[39;00mmapped_interface\u001b[38;5;132;01m}\u001b[39;00m\u001b[38;5;124m not found. Please install the latest \u001b[39m\u001b[38;5;124m\"\u001b[39m\n\u001b[1;32m    721\u001b[0m         \u001b[38;5;124mf\u001b[39m\u001b[38;5;124m\"\u001b[39m\u001b[38;5;124mversion of \u001b[39m\u001b[38;5;132;01m{\u001b[39;00mmapped_interface\u001b[38;5;132;01m}\u001b[39;00m\u001b[38;5;124m to enable the \u001b[39m\u001b[38;5;124m'\u001b[39m\u001b[38;5;132;01m{\u001b[39;00mmapped_interface\u001b[38;5;132;01m}\u001b[39;00m\u001b[38;5;124m'\u001b[39m\u001b[38;5;124m interface.\u001b[39m\u001b[38;5;124m\"\u001b[39m\n\u001b[1;32m    722\u001b[0m     ) \u001b[38;5;28;01mfrom\u001b[39;00m \u001b[38;5;21;01me\u001b[39;00m\n\u001b[0;32m--> 724\u001b[0m res \u001b[38;5;241m=\u001b[39m \u001b[43m_execute\u001b[49m\u001b[43m(\u001b[49m\n\u001b[1;32m    725\u001b[0m \u001b[43m    \u001b[49m\u001b[43mtapes\u001b[49m\u001b[43m,\u001b[49m\u001b[43m \u001b[49m\u001b[43mdevice\u001b[49m\u001b[43m,\u001b[49m\u001b[43m \u001b[49m\u001b[43mexecute_fn\u001b[49m\u001b[43m,\u001b[49m\u001b[43m \u001b[49m\u001b[43mgradient_fn\u001b[49m\u001b[43m,\u001b[49m\u001b[43m \u001b[49m\u001b[43mgradient_kwargs\u001b[49m\u001b[43m,\u001b[49m\u001b[43m \u001b[49m\u001b[43m_n\u001b[49m\u001b[38;5;241;43m=\u001b[39;49m\u001b[38;5;241;43m1\u001b[39;49m\u001b[43m,\u001b[49m\u001b[43m \u001b[49m\u001b[43mmax_diff\u001b[49m\u001b[38;5;241;43m=\u001b[39;49m\u001b[43mmax_diff\u001b[49m\u001b[43m,\u001b[49m\u001b[43m \u001b[49m\u001b[43mmode\u001b[49m\u001b[38;5;241;43m=\u001b[39;49m\u001b[43m_mode\u001b[49m\n\u001b[1;32m    726\u001b[0m \u001b[43m\u001b[49m\u001b[43m)\u001b[49m\n\u001b[1;32m    728\u001b[0m \u001b[38;5;28;01mreturn\u001b[39;00m batch_fn(res)\n",
      "File \u001b[0;32m/opt/conda/lib/python3.10/site-packages/pennylane/interfaces/autograd.py:81\u001b[0m, in \u001b[0;36mexecute\u001b[0;34m(tapes, device, execute_fn, gradient_fn, gradient_kwargs, _n, max_diff, mode)\u001b[0m\n\u001b[1;32m     75\u001b[0m \u001b[38;5;66;03m# pylint misidentifies autograd.builtins as a dict\u001b[39;00m\n\u001b[1;32m     76\u001b[0m \u001b[38;5;66;03m# pylint: disable=no-member\u001b[39;00m\n\u001b[1;32m     77\u001b[0m parameters \u001b[38;5;241m=\u001b[39m autograd\u001b[38;5;241m.\u001b[39mbuiltins\u001b[38;5;241m.\u001b[39mtuple(\n\u001b[1;32m     78\u001b[0m     [autograd\u001b[38;5;241m.\u001b[39mbuiltins\u001b[38;5;241m.\u001b[39mlist(t\u001b[38;5;241m.\u001b[39mget_parameters()) \u001b[38;5;28;01mfor\u001b[39;00m t \u001b[38;5;129;01min\u001b[39;00m tapes]\n\u001b[1;32m     79\u001b[0m )\n\u001b[0;32m---> 81\u001b[0m \u001b[38;5;28;01mreturn\u001b[39;00m \u001b[43m_execute\u001b[49m\u001b[43m(\u001b[49m\n\u001b[1;32m     82\u001b[0m \u001b[43m    \u001b[49m\u001b[43mparameters\u001b[49m\u001b[43m,\u001b[49m\n\u001b[1;32m     83\u001b[0m \u001b[43m    \u001b[49m\u001b[43mtapes\u001b[49m\u001b[38;5;241;43m=\u001b[39;49m\u001b[43mtapes\u001b[49m\u001b[43m,\u001b[49m\n\u001b[1;32m     84\u001b[0m \u001b[43m    \u001b[49m\u001b[43mdevice\u001b[49m\u001b[38;5;241;43m=\u001b[39;49m\u001b[43mdevice\u001b[49m\u001b[43m,\u001b[49m\n\u001b[1;32m     85\u001b[0m \u001b[43m    \u001b[49m\u001b[43mexecute_fn\u001b[49m\u001b[38;5;241;43m=\u001b[39;49m\u001b[43mexecute_fn\u001b[49m\u001b[43m,\u001b[49m\n\u001b[1;32m     86\u001b[0m \u001b[43m    \u001b[49m\u001b[43mgradient_fn\u001b[49m\u001b[38;5;241;43m=\u001b[39;49m\u001b[43mgradient_fn\u001b[49m\u001b[43m,\u001b[49m\n\u001b[1;32m     87\u001b[0m \u001b[43m    \u001b[49m\u001b[43mgradient_kwargs\u001b[49m\u001b[38;5;241;43m=\u001b[39;49m\u001b[43mgradient_kwargs\u001b[49m\u001b[43m,\u001b[49m\n\u001b[1;32m     88\u001b[0m \u001b[43m    \u001b[49m\u001b[43m_n\u001b[49m\u001b[38;5;241;43m=\u001b[39;49m\u001b[43m_n\u001b[49m\u001b[43m,\u001b[49m\n\u001b[1;32m     89\u001b[0m \u001b[43m    \u001b[49m\u001b[43mmax_diff\u001b[49m\u001b[38;5;241;43m=\u001b[39;49m\u001b[43mmax_diff\u001b[49m\u001b[43m,\u001b[49m\n\u001b[1;32m     90\u001b[0m \u001b[43m\u001b[49m\u001b[43m)\u001b[49m[\u001b[38;5;241m0\u001b[39m]\n",
      "File \u001b[0;32m/opt/conda/lib/python3.10/site-packages/autograd/tracer.py:48\u001b[0m, in \u001b[0;36mprimitive.<locals>.f_wrapped\u001b[0;34m(*args, **kwargs)\u001b[0m\n\u001b[1;32m     46\u001b[0m     \u001b[38;5;28;01mreturn\u001b[39;00m new_box(ans, trace, node)\n\u001b[1;32m     47\u001b[0m \u001b[38;5;28;01melse\u001b[39;00m:\n\u001b[0;32m---> 48\u001b[0m     \u001b[38;5;28;01mreturn\u001b[39;00m \u001b[43mf_raw\u001b[49m\u001b[43m(\u001b[49m\u001b[38;5;241;43m*\u001b[39;49m\u001b[43margs\u001b[49m\u001b[43m,\u001b[49m\u001b[43m \u001b[49m\u001b[38;5;241;43m*\u001b[39;49m\u001b[38;5;241;43m*\u001b[39;49m\u001b[43mkwargs\u001b[49m\u001b[43m)\u001b[49m\n",
      "File \u001b[0;32m/opt/conda/lib/python3.10/site-packages/pennylane/interfaces/autograd.py:125\u001b[0m, in \u001b[0;36m_execute\u001b[0;34m(parameters, tapes, device, execute_fn, gradient_fn, gradient_kwargs, _n, max_diff)\u001b[0m\n\u001b[1;32m    104\u001b[0m \u001b[38;5;250m\u001b[39m\u001b[38;5;124;03m\"\"\"Autodifferentiable wrapper around ``Device.batch_execute``.\u001b[39;00m\n\u001b[1;32m    105\u001b[0m \n\u001b[1;32m    106\u001b[0m \u001b[38;5;124;03mThe signature of this function is designed to work around Autograd restrictions.\u001b[39;00m\n\u001b[0;32m   (...)\u001b[0m\n\u001b[1;32m    122\u001b[0m \u001b[38;5;124;03munderstand the consequences!\u001b[39;00m\n\u001b[1;32m    123\u001b[0m \u001b[38;5;124;03m\"\"\"\u001b[39;00m\n\u001b[1;32m    124\u001b[0m \u001b[38;5;28;01mwith\u001b[39;00m qml\u001b[38;5;241m.\u001b[39mtape\u001b[38;5;241m.\u001b[39mUnwrap(\u001b[38;5;241m*\u001b[39mtapes):\n\u001b[0;32m--> 125\u001b[0m     res, jacs \u001b[38;5;241m=\u001b[39m \u001b[43mexecute_fn\u001b[49m\u001b[43m(\u001b[49m\u001b[43mtapes\u001b[49m\u001b[43m,\u001b[49m\u001b[43m \u001b[49m\u001b[38;5;241;43m*\u001b[39;49m\u001b[38;5;241;43m*\u001b[39;49m\u001b[43mgradient_kwargs\u001b[49m\u001b[43m)\u001b[49m\n\u001b[1;32m    127\u001b[0m \u001b[38;5;28;01mfor\u001b[39;00m i, r \u001b[38;5;129;01min\u001b[39;00m \u001b[38;5;28menumerate\u001b[39m(res):\n\u001b[1;32m    128\u001b[0m     \u001b[38;5;28;01mif\u001b[39;00m \u001b[38;5;28many\u001b[39m(\u001b[38;5;28misinstance\u001b[39m(m, CountsMP) \u001b[38;5;28;01mfor\u001b[39;00m m \u001b[38;5;129;01min\u001b[39;00m tapes[i]\u001b[38;5;241m.\u001b[39mmeasurements):\n",
      "File \u001b[0;32m/opt/conda/lib/python3.10/site-packages/pennylane/interfaces/execution.py:206\u001b[0m, in \u001b[0;36mcache_execute.<locals>.wrapper\u001b[0;34m(tapes, **kwargs)\u001b[0m\n\u001b[1;32m    202\u001b[0m         \u001b[38;5;28;01mreturn\u001b[39;00m (res, []) \u001b[38;5;28;01mif\u001b[39;00m return_tuple \u001b[38;5;28;01melse\u001b[39;00m res\n\u001b[1;32m    204\u001b[0m \u001b[38;5;28;01melse\u001b[39;00m:\n\u001b[1;32m    205\u001b[0m     \u001b[38;5;66;03m# execute all unique tapes that do not exist in the cache\u001b[39;00m\n\u001b[0;32m--> 206\u001b[0m     res \u001b[38;5;241m=\u001b[39m \u001b[43mfn\u001b[49m\u001b[43m(\u001b[49m\u001b[43mexecution_tapes\u001b[49m\u001b[38;5;241;43m.\u001b[39;49m\u001b[43mvalues\u001b[49m\u001b[43m(\u001b[49m\u001b[43m)\u001b[49m\u001b[43m,\u001b[49m\u001b[43m \u001b[49m\u001b[38;5;241;43m*\u001b[39;49m\u001b[38;5;241;43m*\u001b[39;49m\u001b[43mkwargs\u001b[49m\u001b[43m)\u001b[49m\n\u001b[1;32m    208\u001b[0m final_res \u001b[38;5;241m=\u001b[39m []\n\u001b[1;32m    210\u001b[0m \u001b[38;5;28;01mfor\u001b[39;00m i, tape \u001b[38;5;129;01min\u001b[39;00m \u001b[38;5;28menumerate\u001b[39m(tapes):\n",
      "File \u001b[0;32m/opt/conda/lib/python3.10/site-packages/pennylane/interfaces/execution.py:131\u001b[0m, in \u001b[0;36mcache_execute.<locals>.fn\u001b[0;34m(tapes, **kwargs)\u001b[0m\n\u001b[1;32m    129\u001b[0m \u001b[38;5;28;01mdef\u001b[39;00m \u001b[38;5;21mfn\u001b[39m(tapes: Sequence[QuantumTape], \u001b[38;5;241m*\u001b[39m\u001b[38;5;241m*\u001b[39mkwargs):  \u001b[38;5;66;03m# pylint: disable=function-redefined\u001b[39;00m\n\u001b[1;32m    130\u001b[0m     tapes \u001b[38;5;241m=\u001b[39m [expand_fn(tape) \u001b[38;5;28;01mfor\u001b[39;00m tape \u001b[38;5;129;01min\u001b[39;00m tapes]\n\u001b[0;32m--> 131\u001b[0m     \u001b[38;5;28;01mreturn\u001b[39;00m \u001b[43moriginal_fn\u001b[49m\u001b[43m(\u001b[49m\u001b[43mtapes\u001b[49m\u001b[43m,\u001b[49m\u001b[43m \u001b[49m\u001b[38;5;241;43m*\u001b[39;49m\u001b[38;5;241;43m*\u001b[39;49m\u001b[43mkwargs\u001b[49m\u001b[43m)\u001b[49m\n",
      "File \u001b[0;32m/opt/conda/lib/python3.10/contextlib.py:79\u001b[0m, in \u001b[0;36mContextDecorator.__call__.<locals>.inner\u001b[0;34m(*args, **kwds)\u001b[0m\n\u001b[1;32m     76\u001b[0m \u001b[38;5;129m@wraps\u001b[39m(func)\n\u001b[1;32m     77\u001b[0m \u001b[38;5;28;01mdef\u001b[39;00m \u001b[38;5;21minner\u001b[39m(\u001b[38;5;241m*\u001b[39margs, \u001b[38;5;241m*\u001b[39m\u001b[38;5;241m*\u001b[39mkwds):\n\u001b[1;32m     78\u001b[0m     \u001b[38;5;28;01mwith\u001b[39;00m \u001b[38;5;28mself\u001b[39m\u001b[38;5;241m.\u001b[39m_recreate_cm():\n\u001b[0;32m---> 79\u001b[0m         \u001b[38;5;28;01mreturn\u001b[39;00m \u001b[43mfunc\u001b[49m\u001b[43m(\u001b[49m\u001b[38;5;241;43m*\u001b[39;49m\u001b[43margs\u001b[49m\u001b[43m,\u001b[49m\u001b[43m \u001b[49m\u001b[38;5;241;43m*\u001b[39;49m\u001b[38;5;241;43m*\u001b[39;49m\u001b[43mkwds\u001b[49m\u001b[43m)\u001b[49m\n",
      "File \u001b[0;32m/opt/conda/lib/python3.10/site-packages/pennylane/_qubit_device.py:656\u001b[0m, in \u001b[0;36mQubitDevice.batch_execute\u001b[0;34m(self, circuits)\u001b[0m\n\u001b[1;32m    653\u001b[0m     \u001b[38;5;28mself\u001b[39m\u001b[38;5;241m.\u001b[39mreset()\n\u001b[1;32m    655\u001b[0m     \u001b[38;5;66;03m# TODO: Insert control on value here\u001b[39;00m\n\u001b[0;32m--> 656\u001b[0m     res \u001b[38;5;241m=\u001b[39m \u001b[38;5;28;43mself\u001b[39;49m\u001b[38;5;241;43m.\u001b[39;49m\u001b[43mexecute\u001b[49m\u001b[43m(\u001b[49m\u001b[43mcircuit\u001b[49m\u001b[43m)\u001b[49m\n\u001b[1;32m    657\u001b[0m     results\u001b[38;5;241m.\u001b[39mappend(res)\n\u001b[1;32m    659\u001b[0m \u001b[38;5;28;01mif\u001b[39;00m \u001b[38;5;28mself\u001b[39m\u001b[38;5;241m.\u001b[39mtracker\u001b[38;5;241m.\u001b[39mactive:\n",
      "File \u001b[0;32m/opt/conda/lib/python3.10/site-packages/pennylane/_qubit_device.py:445\u001b[0m, in \u001b[0;36mQubitDevice.execute\u001b[0;34m(self, circuit, **kwargs)\u001b[0m\n\u001b[1;32m    443\u001b[0m     results \u001b[38;5;241m=\u001b[39m \u001b[38;5;28mself\u001b[39m\u001b[38;5;241m.\u001b[39m_collect_shotvector_results(circuit, counts_exist)\n\u001b[1;32m    444\u001b[0m \u001b[38;5;28;01melse\u001b[39;00m:\n\u001b[0;32m--> 445\u001b[0m     results \u001b[38;5;241m=\u001b[39m \u001b[38;5;28;43mself\u001b[39;49m\u001b[38;5;241;43m.\u001b[39;49m\u001b[43mstatistics\u001b[49m\u001b[43m(\u001b[49m\u001b[43mcircuit\u001b[49m\u001b[38;5;241;43m=\u001b[39;49m\u001b[43mcircuit\u001b[49m\u001b[43m)\u001b[49m\n\u001b[1;32m    447\u001b[0m \u001b[38;5;28;01mif\u001b[39;00m \u001b[38;5;129;01mnot\u001b[39;00m circuit\u001b[38;5;241m.\u001b[39mis_sampled:\n\u001b[1;32m    449\u001b[0m     \u001b[38;5;28;01mif\u001b[39;00m \u001b[38;5;28mlen\u001b[39m(measurements) \u001b[38;5;241m==\u001b[39m \u001b[38;5;241m1\u001b[39m:\n",
      "File \u001b[0;32m/opt/conda/lib/python3.10/site-packages/pennylane_lightning_gpu/lightning_gpu.py:407\u001b[0m, in \u001b[0;36mLightningGPU.statistics\u001b[0;34m(self, circuit, shot_range, bin_size)\u001b[0m\n\u001b[1;32m    405\u001b[0m \u001b[38;5;28;01mdef\u001b[39;00m \u001b[38;5;21mstatistics\u001b[39m(\u001b[38;5;28mself\u001b[39m, circuit, shot_range\u001b[38;5;241m=\u001b[39m\u001b[38;5;28;01mNone\u001b[39;00m, bin_size\u001b[38;5;241m=\u001b[39m\u001b[38;5;28;01mNone\u001b[39;00m):\n\u001b[1;32m    406\u001b[0m     \u001b[38;5;66;03m## Ensure D2H sync before calculating non-GPU supported operations\u001b[39;00m\n\u001b[0;32m--> 407\u001b[0m     \u001b[38;5;28;01mreturn\u001b[39;00m \u001b[38;5;28;43msuper\u001b[39;49m\u001b[43m(\u001b[49m\u001b[43m)\u001b[49m\u001b[38;5;241;43m.\u001b[39;49m\u001b[43mstatistics\u001b[49m\u001b[43m(\u001b[49m\u001b[43mcircuit\u001b[49m\u001b[43m,\u001b[49m\u001b[43m \u001b[49m\u001b[43mshot_range\u001b[49m\u001b[43m,\u001b[49m\u001b[43m \u001b[49m\u001b[43mbin_size\u001b[49m\u001b[43m)\u001b[49m\n",
      "File \u001b[0;32m/opt/conda/lib/python3.10/site-packages/pennylane/_qubit_device.py:807\u001b[0m, in \u001b[0;36mQubitDevice.statistics\u001b[0;34m(self, observables, shot_range, bin_size, circuit)\u001b[0m\n\u001b[1;32m    803\u001b[0m \u001b[38;5;66;03m# TODO: Remove return_type when `observables` argument is removed from this method\u001b[39;00m\n\u001b[1;32m    804\u001b[0m \u001b[38;5;66;03m# Pass instances directly\u001b[39;00m\n\u001b[1;32m    805\u001b[0m \u001b[38;5;28;01melif\u001b[39;00m obs\u001b[38;5;241m.\u001b[39mreturn_type \u001b[38;5;129;01mis\u001b[39;00m Expectation:\n\u001b[1;32m    806\u001b[0m     \u001b[38;5;66;03m# Appends a result of shape (num_bins,) if bin_size is not None, else a scalar\u001b[39;00m\n\u001b[0;32m--> 807\u001b[0m     results\u001b[38;5;241m.\u001b[39mappend(\u001b[38;5;28;43mself\u001b[39;49m\u001b[38;5;241;43m.\u001b[39;49m\u001b[43mexpval\u001b[49m\u001b[43m(\u001b[49m\u001b[43mobs\u001b[49m\u001b[43m,\u001b[49m\u001b[43m \u001b[49m\u001b[43mshot_range\u001b[49m\u001b[38;5;241;43m=\u001b[39;49m\u001b[43mshot_range\u001b[49m\u001b[43m,\u001b[49m\u001b[43m \u001b[49m\u001b[43mbin_size\u001b[49m\u001b[38;5;241;43m=\u001b[39;49m\u001b[43mbin_size\u001b[49m\u001b[43m)\u001b[49m)\n\u001b[1;32m    809\u001b[0m \u001b[38;5;28;01melif\u001b[39;00m obs\u001b[38;5;241m.\u001b[39mreturn_type \u001b[38;5;129;01mis\u001b[39;00m Variance:\n\u001b[1;32m    810\u001b[0m     \u001b[38;5;66;03m# Appends a result of shape (num_bins,) if bin_size is not None, else a scalar\u001b[39;00m\n\u001b[1;32m    811\u001b[0m     results\u001b[38;5;241m.\u001b[39mappend(\u001b[38;5;28mself\u001b[39m\u001b[38;5;241m.\u001b[39mvar(obs, shot_range\u001b[38;5;241m=\u001b[39mshot_range, bin_size\u001b[38;5;241m=\u001b[39mbin_size))\n",
      "File \u001b[0;32m/opt/conda/lib/python3.10/site-packages/pennylane_lightning_gpu/lightning_gpu.py:743\u001b[0m, in \u001b[0;36mLightningGPU.expval\u001b[0;34m(self, observable, shot_range, bin_size)\u001b[0m\n\u001b[1;32m    729\u001b[0m         \u001b[38;5;28;01mreturn\u001b[39;00m \u001b[38;5;28mself\u001b[39m\u001b[38;5;241m.\u001b[39m_gpu_state\u001b[38;5;241m.\u001b[39mExpectationValue(\n\u001b[1;32m    730\u001b[0m             device_wires, qml\u001b[38;5;241m.\u001b[39mmatrix(observable)\u001b[38;5;241m.\u001b[39mravel(order\u001b[38;5;241m=\u001b[39m\u001b[38;5;124m\"\u001b[39m\u001b[38;5;124mC\u001b[39m\u001b[38;5;124m\"\u001b[39m)\n\u001b[1;32m    731\u001b[0m         )\n\u001b[1;32m    733\u001b[0m par \u001b[38;5;241m=\u001b[39m (\n\u001b[1;32m    734\u001b[0m     observable\u001b[38;5;241m.\u001b[39mparameters\n\u001b[1;32m    735\u001b[0m     \u001b[38;5;28;01mif\u001b[39;00m (\n\u001b[0;32m   (...)\u001b[0m\n\u001b[1;32m    739\u001b[0m     \u001b[38;5;28;01melse\u001b[39;00m []\n\u001b[1;32m    740\u001b[0m )\n\u001b[1;32m    741\u001b[0m \u001b[38;5;28;01mreturn\u001b[39;00m \u001b[38;5;28mself\u001b[39m\u001b[38;5;241m.\u001b[39m_gpu_state\u001b[38;5;241m.\u001b[39mExpectationValue(\n\u001b[1;32m    742\u001b[0m     observable\u001b[38;5;241m.\u001b[39mname,\n\u001b[0;32m--> 743\u001b[0m     \u001b[38;5;28;43mself\u001b[39;49m\u001b[38;5;241;43m.\u001b[39;49m\u001b[43mwires\u001b[49m\u001b[38;5;241;43m.\u001b[39;49m\u001b[43mindices\u001b[49m\u001b[43m(\u001b[49m\u001b[43mobservable\u001b[49m\u001b[38;5;241;43m.\u001b[39;49m\u001b[43mwires\u001b[49m\u001b[43m)\u001b[49m,\n\u001b[1;32m    744\u001b[0m     par,  \u001b[38;5;66;03m# observables should not pass parameters, use matrix instead\u001b[39;00m\n\u001b[1;32m    745\u001b[0m     qml\u001b[38;5;241m.\u001b[39mmatrix(observable)\u001b[38;5;241m.\u001b[39mravel(order\u001b[38;5;241m=\u001b[39m\u001b[38;5;124m\"\u001b[39m\u001b[38;5;124mC\u001b[39m\u001b[38;5;124m\"\u001b[39m),\n\u001b[1;32m    746\u001b[0m )\n",
      "File \u001b[0;32m/opt/conda/lib/python3.10/site-packages/pennylane/wires.py:259\u001b[0m, in \u001b[0;36mWires.indices\u001b[0;34m(self, wires)\u001b[0m\n\u001b[1;32m    256\u001b[0m \u001b[38;5;28;01mif\u001b[39;00m \u001b[38;5;129;01mnot\u001b[39;00m \u001b[38;5;28misinstance\u001b[39m(wires, Iterable):\n\u001b[1;32m    257\u001b[0m     \u001b[38;5;28;01mreturn\u001b[39;00m [\u001b[38;5;28mself\u001b[39m\u001b[38;5;241m.\u001b[39mindex(wires)]\n\u001b[0;32m--> 259\u001b[0m \u001b[38;5;28;01mreturn\u001b[39;00m [\u001b[38;5;28mself\u001b[39m\u001b[38;5;241m.\u001b[39mindex(w) \u001b[38;5;28;01mfor\u001b[39;00m w \u001b[38;5;129;01min\u001b[39;00m wires]\n",
      "File \u001b[0;32m/opt/conda/lib/python3.10/site-packages/pennylane/wires.py:259\u001b[0m, in \u001b[0;36m<listcomp>\u001b[0;34m(.0)\u001b[0m\n\u001b[1;32m    256\u001b[0m \u001b[38;5;28;01mif\u001b[39;00m \u001b[38;5;129;01mnot\u001b[39;00m \u001b[38;5;28misinstance\u001b[39m(wires, Iterable):\n\u001b[1;32m    257\u001b[0m     \u001b[38;5;28;01mreturn\u001b[39;00m [\u001b[38;5;28mself\u001b[39m\u001b[38;5;241m.\u001b[39mindex(wires)]\n\u001b[0;32m--> 259\u001b[0m \u001b[38;5;28;01mreturn\u001b[39;00m [\u001b[38;5;28;43mself\u001b[39;49m\u001b[38;5;241;43m.\u001b[39;49m\u001b[43mindex\u001b[49m\u001b[43m(\u001b[49m\u001b[43mw\u001b[49m\u001b[43m)\u001b[49m \u001b[38;5;28;01mfor\u001b[39;00m w \u001b[38;5;129;01min\u001b[39;00m wires]\n",
      "File \u001b[0;32m/opt/conda/lib/python3.10/site-packages/pennylane/wires.py:235\u001b[0m, in \u001b[0;36mWires.index\u001b[0;34m(self, wire)\u001b[0m\n\u001b[1;32m    233\u001b[0m     \u001b[38;5;28;01mreturn\u001b[39;00m \u001b[38;5;28mself\u001b[39m\u001b[38;5;241m.\u001b[39m_labels\u001b[38;5;241m.\u001b[39mindex(wire)\n\u001b[1;32m    234\u001b[0m \u001b[38;5;28;01mexcept\u001b[39;00m \u001b[38;5;167;01mValueError\u001b[39;00m \u001b[38;5;28;01mas\u001b[39;00m e:\n\u001b[0;32m--> 235\u001b[0m     \u001b[38;5;28;01mraise\u001b[39;00m WireError(\u001b[38;5;124mf\u001b[39m\u001b[38;5;124m\"\u001b[39m\u001b[38;5;124mWire with label \u001b[39m\u001b[38;5;132;01m{\u001b[39;00mwire\u001b[38;5;132;01m}\u001b[39;00m\u001b[38;5;124m not found in \u001b[39m\u001b[38;5;132;01m{\u001b[39;00m\u001b[38;5;28mself\u001b[39m\u001b[38;5;132;01m}\u001b[39;00m\u001b[38;5;124m.\u001b[39m\u001b[38;5;124m\"\u001b[39m) \u001b[38;5;28;01mfrom\u001b[39;00m \u001b[38;5;21;01me\u001b[39;00m\n",
      "\u001b[0;31mWireError\u001b[0m: Wire with label 8 not found in <Wires = [0, 1, 2, 3, 4, 5, 6]>."
     ]
    }
   ],
   "source": [
    "D = D_mat(input_state, basis, H_tapered)"
   ]
  },
  {
   "cell_type": "code",
   "execution_count": null,
   "id": "d78bd766-b30e-4362-87ab-f189e995d903",
   "metadata": {
    "tags": []
   },
   "outputs": [],
   "source": [
    "vals, vect = eigh(D,S, eigvals_only=False)\n",
    "print(vals)"
   ]
  },
  {
   "cell_type": "code",
   "execution_count": null,
   "id": "f02d2cea-2028-40f7-a65e-da5b2e9b2e48",
   "metadata": {
    "tags": []
   },
   "outputs": [],
   "source": [
    "from matplotlib import pyplot as plt\n",
    "\n",
    "\n",
    "plt.plot(abs(vect[0])**2,'.')\n",
    "plt.yscale('log')"
   ]
  },
  {
   "cell_type": "code",
   "execution_count": null,
   "id": "6e3980b8-11c4-4d1d-a370-328d1322d0ba",
   "metadata": {},
   "outputs": [],
   "source": []
  }
 ],
 "metadata": {
  "kernelspec": {
   "display_name": "Python 3 (ipykernel)",
   "language": "python",
   "name": "python3"
  },
  "language_info": {
   "codemirror_mode": {
    "name": "ipython",
    "version": 3
   },
   "file_extension": ".py",
   "mimetype": "text/x-python",
   "name": "python",
   "nbconvert_exporter": "python",
   "pygments_lexer": "ipython3",
   "version": "3.10.9"
  }
 },
 "nbformat": 4,
 "nbformat_minor": 5
}
