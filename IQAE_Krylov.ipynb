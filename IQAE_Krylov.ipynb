{
 "cells": [
  {
   "cell_type": "code",
   "execution_count": 2,
   "id": "a2c7fed2-eb8a-49a9-92b8-302a28cf4cc3",
   "metadata": {},
   "outputs": [],
   "source": [
    "from pennylane import numpy as np\n",
    "import pennylane as qml\n",
    "import pickle\n",
    "from scipy.linalg import eigh\n",
    "from scipy.linalg import det"
   ]
  },
  {
   "attachments": {},
   "cell_type": "markdown",
   "id": "a52d1198",
   "metadata": {},
   "source": [
    "## Molecule definition"
   ]
  },
  {
   "cell_type": "code",
   "execution_count": 3,
   "id": "6ebb44ca-ad71-444c-9a20-01c76bbe7557",
   "metadata": {},
   "outputs": [],
   "source": [
    "def angstrom_to_bohr(dist):\n",
    "    return dist*1.88973"
   ]
  },
  {
   "cell_type": "code",
   "execution_count": 4,
   "id": "f1cd1289",
   "metadata": {},
   "outputs": [],
   "source": [
    "symbols = [\"H\",\"Be\",\"H\"]\n",
    "dist = 1.3264\n",
    "geometry = angstrom_to_bohr( np.array([[0, 0, -dist],[0.,0,0],[0,0,dist]]) )\n",
    "mol = qml.qchem.Molecule(symbols, geometry)"
   ]
  },
  {
   "cell_type": "code",
   "execution_count": 5,
   "id": "c9d7f31e",
   "metadata": {},
   "outputs": [],
   "source": [
    "active_electrons = 4\n",
    "active_orbitals = 6\n",
    "\n",
    "H, qubits = qml.qchem.molecular_hamiltonian(mol.symbols,\n",
    "                                            mol.coordinates,\n",
    "                                            active_electrons=active_electrons,\n",
    "                                            active_orbitals=active_orbitals,\n",
    "                                                      grouping_method = 'qwc',\n",
    "                                                      args=[mol.coordinates])"
   ]
  },
  {
   "cell_type": "code",
   "execution_count": 6,
   "id": "66f76e1b",
   "metadata": {},
   "outputs": [
    {
     "name": "stderr",
     "output_type": "stream",
     "text": [
      "/Users/Brian/workspace/Research/QHack2023/.conda/lib/python3.10/site-packages/pennylane/operation.py:1830: UserWarning: Tensor object acts on overlapping wires; in some PennyLane functions this will lead to undefined behaviour\n",
      "  warnings.warn(\n",
      "/Users/Brian/workspace/Research/QHack2023/.conda/lib/python3.10/site-packages/pennylane/operation.py:1993: UserWarning: Tensor object acts on overlapping wires; in some PennyLane functions this will lead to undefined behaviour\n",
      "  warnings.warn(\n"
     ]
    }
   ],
   "source": [
    "generators = qml.symmetry_generators(H)\n",
    "paulixops = qml.paulix_ops(generators, qubits)\n",
    "paulix_sector = qml.qchem.optimal_sector(H, generators, active_electrons)\n",
    "\n",
    "H_tapered_oldwires = qml.taper(H, generators, paulixops, paulix_sector)"
   ]
  },
  {
   "cell_type": "code",
   "execution_count": null,
   "id": "9385504d",
   "metadata": {},
   "outputs": [],
   "source": [
    "qubits_tap = qubits-len(paulixops)\n",
    "wire_tapered = [ paulixops[i].wires[0] for i in range(len(paulixops))]\n",
    "wire_tap = [ x for x in range(qubits) if not x in wire_tapered ]\n",
    "wire_map = {wire:i for i,wire in enumerate(wire_tap)}\n",
    "\n",
    "\n",
    "H_tapered = qml.map_wires(H_tapered_oldwires,wire_map)"
   ]
  },
  {
   "cell_type": "code",
   "execution_count": null,
   "id": "545d89f4",
   "metadata": {},
   "outputs": [],
   "source": [
    "with open('gs.pkl','rb') as f:\n",
    "    psi0 = pickle.load(f)"
   ]
  },
  {
   "attachments": {},
   "cell_type": "markdown",
   "id": "f738f92d",
   "metadata": {},
   "source": [
    "## Tools"
   ]
  },
  {
   "cell_type": "code",
   "execution_count": null,
   "id": "7549ab2d-9e82-492a-b974-9d447edde38a",
   "metadata": {},
   "outputs": [],
   "source": [
    "def rewrite_pauli_word_to_string(pw,qubits=qubits_tap):\n",
    "    #qml.pauli_word_to_string()\n",
    "    s = dict(pw.items())\n",
    "    string=''\n",
    "    for i in range(qubits):\n",
    "        if i in s.keys():\n",
    "            string+=s[i]\n",
    "        else:\n",
    "            string+='I'\n",
    "    return string\n",
    "\n",
    "    #return ''.join(['I' if i not in pw.wires else el \n",
    "    #                for i,el in enumerate(qml.pauli.pauli_word_to_string(pw))])\n",
    "\n",
    "def cumulative_space(H,K):\n",
    "    if K==0:\n",
    "    # just return pauli word identity\n",
    "        return [''.join(['I' for _ in range(qubits_tap)])]\n",
    "\n",
    "    else:\n",
    "        Id = ''.join(['I' for _ in range(qubits_tap)])\n",
    "        PsH = qml.pauli.pauli_sentence(H)\n",
    "        PsH_real = qml.pauli.PauliSentence( { pw : 1. for  pw,_ in PsH.items()})\n",
    "        # maybe ? PsH_real.simplify()\n",
    "        PsH_cumul = qml.pauli.PauliSentence( { pw : 1. for  pw,_ in PsH.items()})\n",
    "\n",
    "        CSK = {rewrite_pauli_word_to_string(pw) for pw,_ in (PsH).items()}\n",
    "        \n",
    "        for _ in range(K-1):\n",
    "            PsH_cumul = PsH_cumul * PsH_real\n",
    "            CSK.update(*[rewrite_pauli_word_to_string(pw) for pw,_ in (PsH_cumul*PsH_real).items()])\n",
    "\n",
    "                \n",
    "        #basis = [{''.join(['I' for _ in range(qubits_tap)])},CS1]\n",
    "        #for _ in range(K-1):\n",
    "        #    CSK.update(basis[-2])\n",
    "        #    basis.append(  increment_cummulative_space( basis[-1].difference(a)  ,CS1)   )\n",
    "        #CSK.update(*basis[-2:])\n",
    "    CSK.remove(Id)\n",
    "    return [Id]+list(CSK)\n",
    "\n"
   ]
  },
  {
   "cell_type": "code",
   "execution_count": null,
   "id": "07cf14e8",
   "metadata": {},
   "outputs": [
    {
     "data": {
      "text/plain": [
       "268"
      ]
     },
     "execution_count": 183,
     "metadata": {},
     "output_type": "execute_result"
    }
   ],
   "source": [
    "len(cumulative_space(H_tapered,1))\n",
    "#qml.pauli.pauli_word_to_string(qml.Identity(0)@qml.PauliX(3))\n",
    "#rewrite_pauli_word_to_string([pw for pw,_ in (PsH).items()][3]\n",
    "\n",
    "#([ type(el) for el in H.ops][1])\n",
    "#H.ops\n",
    "#[pw for pw,_ in (PsH).items()][10]\n",
    "#dict([pw for pw,_ in (PsH).items()][10].items())"
   ]
  },
  {
   "cell_type": "code",
   "execution_count": null,
   "id": "b8dc9f74",
   "metadata": {},
   "outputs": [],
   "source": [
    "import dask \n",
    "import time\n",
    "# Calculate the expectation value with the inital state psi0\n",
    "# Could be improved with Dask or QWC elements\n",
    "\n",
    "devs = [ qml.device(\"default.qubit\", wires=qubits_tap) for _ in range(len(H_tapered.ops))]\n",
    "\n",
    "def circuit(Pi_H_Pj):\n",
    "    qml.QubitStateVector(psi0, range(qubits_tap))\n",
    "    return qml.expval(Pi_H_Pj)\n",
    "\n",
    "\n",
    "def compute_expect(H):\n",
    "    qnode = qml.QNode(circuit, devs[0])(H)\n",
    "    return qnode\n",
    "\n",
    "\n",
    "def compute_energy_parallel(H, devs, param):\n",
    "    assert len(H.ops) == len(devs)\n",
    "    results = []\n",
    "\n",
    "    for i in range(len(H.ops)):\n",
    "        qnode = qml.QNode(circuit, devs[i])\n",
    "        results.append(dask.delayed(qnode)(param, H.ops[i]))\n",
    "\n",
    "    result = H.coeffs @ dask.compute(*results, scheduler=\"threads\")\n",
    "    return result\n",
    "\n",
    "\n",
    "def compute_expect_parallel_optimized(H, devs=devs):\n",
    "    assert len(H.ops) <= len(devs)\n",
    "    results = []\n",
    "\n",
    "    obs_groupings, coeffs_groupings = qml.pauli.group_observables(H.ops, H.coeffs, \"qwc\")\n",
    "    for i, (obs, coeffs) in enumerate(zip(obs_groupings, coeffs_groupings)):\n",
    "        # THE FOLLOWING CASE IS SURPRISINGLY HAPPENING SOMETIMES....\n",
    "        #if(len(coeffs)!=len(obs)):\n",
    "        #    print(\"lolilol \", len(coeffs),\" \",coeffs, \" \", len(obs), \" \", obs )\n",
    "        if(len(obs)> len(coeffs)):\n",
    "            #print(\"AH\")\n",
    "            #print(type(coeffs))\n",
    "            coeffs = qml.numpy.tensor( list(coeffs.unwrap()) + [0.+0.j for _ in range(len(obs)-len(coeffs))])\n",
    "        \n",
    "        H_part = qml.Hamiltonian(coeffs, obs)\n",
    "        qnode = qml.QNode(circuit, devs[i])\n",
    "        results.append(dask.delayed(qnode)(H_part))\n",
    "\n",
    "    result = qml.math.sum(dask.compute(*results, scheduler=\"threads\"))\n",
    "    return result\n",
    "\n"
   ]
  },
  {
   "cell_type": "code",
   "execution_count": null,
   "id": "358750a7-337a-4f70-9490-277e608661d0",
   "metadata": {},
   "outputs": [],
   "source": [
    "def expectation_obs(Pi,Pj, H=qml.Hamiltonian(coeffs=[1.], observables = [qml.Identity(0)])):\n",
    "    \"\"\"Computes the expectation value of a Hamiltonian sandwiched between two Pauli words.\n",
    "\n",
    "\n",
    "    Args:\n",
    "        Pi (_type_): _description_\n",
    "        Pj (_type_): _description_\n",
    "        psi0 (_type_): _description_\n",
    "        H (_type_, optional): _description_. Defaults to None.\n",
    "        parallel (bool, optional): _description_. Defaults to False.\n",
    "        nvidia (bool, optional): _description_. Defaults to False.\n",
    "\n",
    "    Returns:\n",
    "        _type_: _description_\n",
    "    \"\"\"\n",
    "    \n",
    "    Pwi = qml.pauli.PauliWord(dict(zip(list(range(len(Pi))), Pi)))\n",
    "    Pwj = qml.pauli.PauliWord(dict(zip(list(range(len(Pj))), Pj)))\n",
    "    \n",
    "    Psi = qml.pauli.PauliSentence({Pwi: 1.})\n",
    "    Psj = qml.pauli.PauliSentence({Pwj: 1.})\n",
    "    PsH = qml.pauli.pauli_sentence(H)\n",
    "\n",
    "    Pi_H_Pj = Psi*PsH*Psj\n",
    "    \n",
    "    # BUG TO BE REPORTED : \n",
    "    # ps.Hamlitonian does not work in case ps contains complex coefficients: \n",
    "    # reproducer\n",
    "    # pw1 = qml.pauli.PauliWord({0:\"X\"})\n",
    "    # Psi = qml.pauli.PauliSentence({pw1: 1.,pw1: 1.2j})\n",
    "    # Psi.hamiltonian()\n",
    "\n",
    "    coeffs,ops = zip(*[ (coeff, pw.hamiltonian(wire_order=list(H_tapered.wires)).ops[0])  for pw, coeff in Pi_H_Pj.items()])\n",
    "    \n",
    "\n",
    "    Pi_H_Pj = qml.Hamiltonian( coeffs = coeffs,\n",
    "                                observables = ops,\n",
    "                                grouping_type=\"qwc\",\n",
    "                                simplify=True\n",
    "                            )\n",
    "    return Pi_H_Pj\n",
    "\n",
    "\n",
    "# Construct the overlap matrix S\n",
    "def S_mat(basis):\n",
    "    N = len(basis)\n",
    "    S_mat = np.ones((N,N), dtype=complex)\n",
    "    for i in range(N):\n",
    "        for j in range(i):\n",
    "            H = expectation_obs(basis[i],basis[j])\n",
    "            S_mat[i,j] = compute_expect(H)\n",
    "            S_mat[j,i] = S_mat[i,j].conjugate()\n",
    "    return S_mat\n",
    "\n",
    "\n",
    "# Construct the matrix D\n",
    "def D_mat(basis, H_tapered):\n",
    "    N = len(basis)\n",
    "    D_mat = np.zeros((N,N), dtype=complex)\n",
    "\n",
    "    for i in range(N):\n",
    "        for j in range(i):\n",
    "            #D_mat[i,j] = expectation_value(basis[i],basis[j],psi0, H=H_tapered)\n",
    "            #t0 = time.time()\n",
    "            H_temp = expectation_obs(basis[i],basis[j], H=H_tapered)\n",
    "            #t1 = time.time() - t0\n",
    "            D_mat[i,j] = compute_expect(H_temp)\n",
    "            D_mat[j,i] = D_mat[i,j].conjugate()    \n",
    "            #t2 = time.time() - t0\n",
    "        #if(i==0 and j==0):\n",
    "            #print(f\"Evaluation time operator: {t1:.2f} s\")\n",
    "            #print(f\"Evaluation time expectation: {t2:.2f} s\")\n",
    "            \n",
    "        H_temp = expectation_obs(basis[i],basis[i], H=H_tapered)      \n",
    "        D_mat[i,i] = compute_expect(H_temp).real\n",
    "    return D_mat\n",
    "\n"
   ]
  },
  {
   "cell_type": "markdown",
   "id": "f1510db7-bb40-4479-bb5d-e9c16a9b44db",
   "metadata": {},
   "source": [
    "### Molecule"
   ]
  },
  {
   "cell_type": "code",
   "execution_count": null,
   "id": "1b94ad37-d243-4093-8ea7-b21591955921",
   "metadata": {},
   "outputs": [],
   "source": []
  },
  {
   "cell_type": "markdown",
   "id": "0980cc1f-55da-4f75-acdd-9f971abbcb35",
   "metadata": {},
   "source": [
    "### Tapering"
   ]
  },
  {
   "cell_type": "code",
   "execution_count": null,
   "id": "7a6c9f03-e892-41c9-9074-30f9008aafcf",
   "metadata": {},
   "outputs": [
    {
     "name": "stdout",
     "output_type": "stream",
     "text": [
      "-15.594837897443046\n",
      "(128, 128)\n",
      "-15.594837897443051\n",
      "\n",
      "(-15.594467553190364-6.16297582203967e-33j)\n"
     ]
    }
   ],
   "source": [
    "H_mat = qml.matrix(H_tapered)\n",
    "vals, vects = eigh(H_mat)\n",
    "print(vals[0])\n",
    "#print(vects[0])\n",
    "lmbda=[]\n",
    "vectlol = vects.transpose() \n",
    "\n",
    "print(vectlol.shape)\n",
    "\n",
    "for el in vectlol[:1]:\n",
    "    lmbda.append((np.matmul(el.conj().transpose(),np.matmul(H_mat, el)) / np.matmul(el.conj().transpose(),el)).real)\n",
    "\n",
    "print(min(lmbda))\n",
    "print()\n",
    "print((np.matmul(psi0.conj().transpose(),np.matmul(H_mat, psi0))/ np.matmul(psi0.conj().transpose(),psi0)) )\n"
   ]
  },
  {
   "cell_type": "code",
   "execution_count": null,
   "id": "7a368cbd-40f7-4362-86a3-96aeb29766d2",
   "metadata": {},
   "outputs": [
    {
     "name": "stdout",
     "output_type": "stream",
     "text": [
      "(0.9867290797243192-1.6149869705664732e-18j)\n"
     ]
    },
    {
     "data": {
      "text/plain": [
       "0j"
      ]
     },
     "execution_count": 145,
     "metadata": {},
     "output_type": "execute_result"
    }
   ],
   "source": [
    "print(psi0[-8])\n",
    "vects[0][-8]"
   ]
  },
  {
   "cell_type": "markdown",
   "id": "1591ad0f-d0db-4190-b1d2-eb201b995ff3",
   "metadata": {},
   "source": [
    "### Generalized eigenvalue problem"
   ]
  },
  {
   "cell_type": "code",
   "execution_count": null,
   "id": "02b2d9db-59c1-436a-9527-a30f86b7c43b",
   "metadata": {},
   "outputs": [
    {
     "name": "stdout",
     "output_type": "stream",
     "text": [
      "['IIIIIII', 'ZZZIZZZ', 'IYIXZZY']\n",
      "(0.057281954956401586+0j)\n"
     ]
    }
   ],
   "source": [
    "basis = ['IIIIIII','XIIIIII','IXIIIII','IIXIIII','IIIXIII','IIIIXII','IIIIIXI','IIIIIIX']\n",
    "\n",
    "#basis = cumulative_space(H_tapered,1)\n",
    "\n",
    "#extract_basis = ['IIIIIII', 'YIIYZZX', 'ZZZIZZZ', 'IXZIIIZ', 'IYXIZZY', 'IZZXZXZ', 'YXIIYII', 'IYIXZZY']\n",
    "\n",
    "extract_basis = ['IIIIIII', 'ZZZIZZZ', 'IYIXZZY']\n",
    "\n",
    "print(extract_basis)\n",
    "S = S_mat(extract_basis)\n",
    "print(det(S))"
   ]
  },
  {
   "cell_type": "code",
   "execution_count": null,
   "id": "0b03b6a0-520f-4eb1-a980-84052fbbfbed",
   "metadata": {},
   "outputs": [],
   "source": [
    "D = D_mat(extract_basis, H_tapered)"
   ]
  },
  {
   "cell_type": "code",
   "execution_count": null,
   "id": "08be5624-307c-4862-a6e9-c78f325192c9",
   "metadata": {},
   "outputs": [
    {
     "name": "stdout",
     "output_type": "stream",
     "text": [
      "[-15.5955766  -14.58782631 -14.24263251]\n"
     ]
    }
   ],
   "source": [
    "vals, vect = eigh(D,S, eigvals_only=False)\n",
    "print(vals)\n",
    "\n",
    "vect = vect.transpose()\n",
    "#print(vect)"
   ]
  },
  {
   "cell_type": "code",
   "execution_count": null,
   "id": "4a8db3e8-134f-4008-a6b2-86ab8f8687bb",
   "metadata": {},
   "outputs": [
    {
     "data": {
      "image/png": "[encoded data removed]",
      "text/plain": [
       "<Figure size 640x480 with 1 Axes>"
      ]
     },
     "metadata": {},
     "output_type": "display_data"
    }
   ],
   "source": [
    "from matplotlib import pyplot as plt\n",
    "\n",
    "plt.plot(abs(vect[0])**2,'.')\n",
    "plt.yscale('log')"
   ]
  },
  {
   "cell_type": "code",
   "execution_count": null,
   "id": "8daa90a5",
   "metadata": {},
   "outputs": [
    {
     "ename": "NameError",
     "evalue": "name 'qml' is not defined",
     "output_type": "error",
     "traceback": [
      "\u001b[0;31m---------------------------------------------------------------------------\u001b[0m",
      "\u001b[0;31mNameError\u001b[0m                                 Traceback (most recent call last)",
      "Cell \u001b[0;32mIn[1], line 1\u001b[0m\n\u001b[0;32m----> 1\u001b[0m \u001b[39m@qml\u001b[39m\u001b[39m.\u001b[39mqnode(devs[\u001b[39m0\u001b[39m])\n\u001b[1;32m      2\u001b[0m \u001b[39mdef\u001b[39;00m \u001b[39mkrylov_vector\u001b[39m(pauli_string,psi0):\n\u001b[1;32m      3\u001b[0m     qml\u001b[39m.\u001b[39mBasisState(psi0, wires\u001b[39m=\u001b[39mH_tapered\u001b[39m.\u001b[39mwires)\n\u001b[1;32m      4\u001b[0m     qml\u001b[39m.\u001b[39mapply(qml\u001b[39m.\u001b[39mpauli\u001b[39m.\u001b[39mstring_to_pauli_word(pauli_string))\n",
      "\u001b[0;31mNameError\u001b[0m: name 'qml' is not defined"
     ]
    }
   ],
   "source": [
    "@qml.qnode(devs[0])\n",
    "def krylov_vector(pauli_string,psi0):\n",
    "    qml.BasisState(psi0, wires=H_tapered.wires)\n",
    "    qml.apply(qml.pauli.string_to_pauli_word(pauli_string))\n",
    "    qml.state()\n",
    "\n",
    "krylov_list = np.zeros(len(extract_basis))\n",
    "for i,pw in enumerate(extract_basis):\n",
    "    krylov_list[i] = krylov_vector(pw,psi0) * vect[i]\n",
    "\n",
    "np.sum(krylov_list)"
   ]
  },
  {
   "cell_type": "code",
   "execution_count": null,
   "id": "14bbbf0f",
   "metadata": {},
   "outputs": [
    {
     "name": "stdout",
     "output_type": "stream",
     "text": [
      "\n",
      "Eigenvalues of H_tapered:\n",
      " -15.594837897443053\n"
     ]
    }
   ],
   "source": [
    "H_tapered_sparse = qml.SparseHamiltonian(qml.utils.sparse_hamiltonian(H_tapered), wires=H_tapered.wires)\n",
    "\n",
    "print(\"\\nEigenvalues of H_tapered:\\n\", min(qml.eigvals(H_tapered_sparse, k=2**7)))"
   ]
  },
  {
   "cell_type": "code",
   "execution_count": null,
   "id": "ddf6a2f4",
   "metadata": {},
   "outputs": [
    {
     "name": "stdout",
     "output_type": "stream",
     "text": [
      "[-1.00018389-3.69544426e-16j  4.04626832+8.13128146e-12j]\n"
     ]
    }
   ],
   "source": [
    "alpha = vect[0] #/np.sqrt(np.sum(np.abs(vects[0])**2))\n",
    "print(alpha)"
   ]
  },
  {
   "cell_type": "code",
   "execution_count": null,
   "id": "00d08700",
   "metadata": {},
   "outputs": [
    {
     "ename": "ValueError",
     "evalue": "The number of FixedLocator locations (7), usually from a call to set_ticks, does not match the number of labels (268).",
     "output_type": "error",
     "traceback": [
      "\u001b[0;31m---------------------------------------------------------------------------\u001b[0m",
      "\u001b[0;31mValueError\u001b[0m                                Traceback (most recent call last)",
      "Cell \u001b[0;32mIn[255], line 3\u001b[0m\n\u001b[1;32m      1\u001b[0m \u001b[39mfor\u001b[39;00m i \u001b[39min\u001b[39;00m \u001b[39mrange\u001b[39m(\u001b[39mlen\u001b[39m(alpha)):\n\u001b[1;32m      2\u001b[0m     plt\u001b[39m.\u001b[39mplot([i,i],[\u001b[39m0\u001b[39m,\u001b[39mabs\u001b[39m(alpha[i])\u001b[39m*\u001b[39m\u001b[39m*\u001b[39m\u001b[39m2\u001b[39m],\u001b[39m'\u001b[39m\u001b[39m:o\u001b[39m\u001b[39m'\u001b[39m, color\u001b[39m=\u001b[39m[\u001b[39m0\u001b[39m, \u001b[39m0.4470\u001b[39m, \u001b[39m0.7410\u001b[39m])\n\u001b[0;32m----> 3\u001b[0m plt\u001b[39m.\u001b[39;49mxticks(\u001b[39mrange\u001b[39;49m(\u001b[39mlen\u001b[39;49m(alpha)), labels\u001b[39m=\u001b[39;49mbasis)\n\u001b[1;32m      4\u001b[0m plt\u001b[39m.\u001b[39mxticks(rotation\u001b[39m=\u001b[39m\u001b[39m45\u001b[39m)\n\u001b[1;32m      5\u001b[0m plt\u001b[39m.\u001b[39myscale(\u001b[39m'\u001b[39m\u001b[39mlog\u001b[39m\u001b[39m'\u001b[39m)\n",
      "File \u001b[0;32m~/workspace/Research/QHack2023/.conda/lib/python3.10/site-packages/matplotlib/pyplot.py:1866\u001b[0m, in \u001b[0;36mxticks\u001b[0;34m(ticks, labels, minor, **kwargs)\u001b[0m\n\u001b[1;32m   1864\u001b[0m         l\u001b[39m.\u001b[39m_internal_update(kwargs)\n\u001b[1;32m   1865\u001b[0m \u001b[39melse\u001b[39;00m:\n\u001b[0;32m-> 1866\u001b[0m     labels \u001b[39m=\u001b[39m ax\u001b[39m.\u001b[39;49mset_xticklabels(labels, minor\u001b[39m=\u001b[39;49mminor, \u001b[39m*\u001b[39;49m\u001b[39m*\u001b[39;49mkwargs)\n\u001b[1;32m   1868\u001b[0m \u001b[39mreturn\u001b[39;00m locs, labels\n",
      "File \u001b[0;32m~/workspace/Research/QHack2023/.conda/lib/python3.10/site-packages/matplotlib/axes/_base.py:74\u001b[0m, in \u001b[0;36m_axis_method_wrapper.__set_name__.<locals>.wrapper\u001b[0;34m(self, *args, **kwargs)\u001b[0m\n\u001b[1;32m     73\u001b[0m \u001b[39mdef\u001b[39;00m \u001b[39mwrapper\u001b[39m(\u001b[39mself\u001b[39m, \u001b[39m*\u001b[39margs, \u001b[39m*\u001b[39m\u001b[39m*\u001b[39mkwargs):\n\u001b[0;32m---> 74\u001b[0m     \u001b[39mreturn\u001b[39;00m get_method(\u001b[39mself\u001b[39;49m)(\u001b[39m*\u001b[39;49margs, \u001b[39m*\u001b[39;49m\u001b[39m*\u001b[39;49mkwargs)\n",
      "File \u001b[0;32m~/workspace/Research/QHack2023/.conda/lib/python3.10/site-packages/matplotlib/_api/deprecation.py:297\u001b[0m, in \u001b[0;36mrename_parameter.<locals>.wrapper\u001b[0;34m(*args, **kwargs)\u001b[0m\n\u001b[1;32m    292\u001b[0m     warn_deprecated(\n\u001b[1;32m    293\u001b[0m         since, message\u001b[39m=\u001b[39m\u001b[39mf\u001b[39m\u001b[39m\"\u001b[39m\u001b[39mThe \u001b[39m\u001b[39m{\u001b[39;00mold\u001b[39m!r}\u001b[39;00m\u001b[39m parameter of \u001b[39m\u001b[39m{\u001b[39;00mfunc\u001b[39m.\u001b[39m\u001b[39m__name__\u001b[39m\u001b[39m}\u001b[39;00m\u001b[39m() \u001b[39m\u001b[39m\"\u001b[39m\n\u001b[1;32m    294\u001b[0m         \u001b[39mf\u001b[39m\u001b[39m\"\u001b[39m\u001b[39mhas been renamed \u001b[39m\u001b[39m{\u001b[39;00mnew\u001b[39m!r}\u001b[39;00m\u001b[39m since Matplotlib \u001b[39m\u001b[39m{\u001b[39;00msince\u001b[39m}\u001b[39;00m\u001b[39m; support \u001b[39m\u001b[39m\"\u001b[39m\n\u001b[1;32m    295\u001b[0m         \u001b[39mf\u001b[39m\u001b[39m\"\u001b[39m\u001b[39mfor the old name will be dropped %(removal)s.\u001b[39m\u001b[39m\"\u001b[39m)\n\u001b[1;32m    296\u001b[0m     kwargs[new] \u001b[39m=\u001b[39m kwargs\u001b[39m.\u001b[39mpop(old)\n\u001b[0;32m--> 297\u001b[0m \u001b[39mreturn\u001b[39;00m func(\u001b[39m*\u001b[39;49margs, \u001b[39m*\u001b[39;49m\u001b[39m*\u001b[39;49mkwargs)\n",
      "File \u001b[0;32m~/workspace/Research/QHack2023/.conda/lib/python3.10/site-packages/matplotlib/axis.py:1973\u001b[0m, in \u001b[0;36mAxis.set_ticklabels\u001b[0;34m(self, labels, minor, fontdict, **kwargs)\u001b[0m\n\u001b[1;32m   1969\u001b[0m \u001b[39mif\u001b[39;00m \u001b[39misinstance\u001b[39m(locator, mticker\u001b[39m.\u001b[39mFixedLocator):\n\u001b[1;32m   1970\u001b[0m     \u001b[39m# Passing [] as a list of labels is often used as a way to\u001b[39;00m\n\u001b[1;32m   1971\u001b[0m     \u001b[39m# remove all tick labels, so only error for > 0 labels\u001b[39;00m\n\u001b[1;32m   1972\u001b[0m     \u001b[39mif\u001b[39;00m \u001b[39mlen\u001b[39m(locator\u001b[39m.\u001b[39mlocs) \u001b[39m!=\u001b[39m \u001b[39mlen\u001b[39m(labels) \u001b[39mand\u001b[39;00m \u001b[39mlen\u001b[39m(labels) \u001b[39m!=\u001b[39m \u001b[39m0\u001b[39m:\n\u001b[0;32m-> 1973\u001b[0m         \u001b[39mraise\u001b[39;00m \u001b[39mValueError\u001b[39;00m(\n\u001b[1;32m   1974\u001b[0m             \u001b[39m\"\u001b[39m\u001b[39mThe number of FixedLocator locations\u001b[39m\u001b[39m\"\u001b[39m\n\u001b[1;32m   1975\u001b[0m             \u001b[39mf\u001b[39m\u001b[39m\"\u001b[39m\u001b[39m (\u001b[39m\u001b[39m{\u001b[39;00m\u001b[39mlen\u001b[39m(locator\u001b[39m.\u001b[39mlocs)\u001b[39m}\u001b[39;00m\u001b[39m), usually from a call to\u001b[39m\u001b[39m\"\u001b[39m\n\u001b[1;32m   1976\u001b[0m             \u001b[39m\"\u001b[39m\u001b[39m set_ticks, does not match\u001b[39m\u001b[39m\"\u001b[39m\n\u001b[1;32m   1977\u001b[0m             \u001b[39mf\u001b[39m\u001b[39m\"\u001b[39m\u001b[39m the number of labels (\u001b[39m\u001b[39m{\u001b[39;00m\u001b[39mlen\u001b[39m(labels)\u001b[39m}\u001b[39;00m\u001b[39m).\u001b[39m\u001b[39m\"\u001b[39m)\n\u001b[1;32m   1978\u001b[0m     tickd \u001b[39m=\u001b[39m {loc: lab \u001b[39mfor\u001b[39;00m loc, lab \u001b[39min\u001b[39;00m \u001b[39mzip\u001b[39m(locator\u001b[39m.\u001b[39mlocs, labels)}\n\u001b[1;32m   1979\u001b[0m     func \u001b[39m=\u001b[39m functools\u001b[39m.\u001b[39mpartial(\u001b[39mself\u001b[39m\u001b[39m.\u001b[39m_format_with_dict, tickd)\n",
      "\u001b[0;31mValueError\u001b[0m: The number of FixedLocator locations (7), usually from a call to set_ticks, does not match the number of labels (268)."
     ]
    },
    {
     "data": {
      "image/png": "[encoded data removed]",
      "text/plain": [
       "<Figure size 640x480 with 1 Axes>"
      ]
     },
     "metadata": {},
     "output_type": "display_data"
    }
   ],
   "source": [
    "for i in range(len(alpha)):\n",
    "    plt.plot([i,i],[0,abs(alpha[i])**2],':o', color=[0, 0.4470, 0.7410])\n",
    "plt.xticks(range(len(alpha)), labels=basis)\n",
    "plt.xticks(rotation=45)\n",
    "plt.yscale('log')\n",
    "plt.show()"
   ]
  }
 ],
 "metadata": {
  "kernelspec": {
   "display_name": "Python 3",
   "language": "python",
   "name": "python3"
  },
  "language_info": {
   "codemirror_mode": {
    "name": "ipython",
    "version": 3
   },
   "file_extension": ".py",
   "mimetype": "text/x-python",
   "name": "python",
   "nbconvert_exporter": "python",
   "pygments_lexer": "ipython3",
   "version": "3.10.9"
  },
  "vscode": {
   "interpreter": {
    "hash": "0de978a0efcf5d6ece7f7335381770ff02f124c40723f59fd26fbc7876efdae4"
   }
  }
 },
 "nbformat": 4,
 "nbformat_minor": 5
}
