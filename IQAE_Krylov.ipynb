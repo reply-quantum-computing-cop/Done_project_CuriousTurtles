{
 "cells": [
  {
   "attachments": {},
   "cell_type": "markdown",
   "metadata": {},
   "source": [
    "# Krylov-fueled Iterative Quantum Assisted Eigensolver"
   ]
  },
  {
   "attachments": {},
   "cell_type": "markdown",
   "metadata": {},
   "source": [
    "## Introduction"
   ]
  },
  {
   "attachments": {},
   "cell_type": "markdown",
   "metadata": {},
   "source": [
    "The main bottleneck in determining ground state energies of an Hamiltonian is the exponential growth of the Hilbert space size. One way to tackle this issue is to use variational quantum algorithms such as VQE.\n",
    "Nonetheless VQE methods are sensitive to Barren plateaus. In addition the classical optimisation task is often facing high dimensional non-convex playgrounds, which complexify the task. The typical ansatz used (UCCSD, Givens rotations) are often quite deep and therefore not applicable considering NISQ devices.\n",
    "\n",
    "All in all, alternative methods can lead to similar or better results. This repository will explore the following paper from Bharti, K., & Haug, T. (n.d.).  *Iterative Quantum Assisted Eigensolver* . [https://arxiv.org/pdf/2010.05638.pdf] \n",
    "\n",
    "The idea is to search for the ground state in a subspace instead of the whole Hilbert space. The difficulty now lies in finding a good search subspace. The work done here is close to the pennylane tutorial *Classically boosted VQE* [https://pennylane.ai/qml/demos/tutorial_classically_boosted_vqe.html]. The main drawback in the latter is the use of Hadamard tests to compute off-diagonal elements.\n",
    "Nonetheless, one can still calculate these elements as expectation values of some state, granted a tailored subspace exploration.\n",
    "\n",
    "The article mentioned above (IQAE) makes use of Krylov-inspired spaces defined as follow:\n",
    "\n",
    "Let $\\ket{\\psi_0}$ be an initial state (we take here the output of the VQE)\n",
    "\n",
    "Let $H$ be a hamiltonian defined as a pauli sentence\n",
    "\n",
    "$$ H = \\sum_i^r \\beta_i U_i$$\n",
    "\n",
    "We then define $\\mathbb{CS_K}$, $K\\in \\mathbb{N}$:\n",
    "\n",
    "$$ \\mathbb{S_0} = \\{\\ket{\\psi_0}\\} ,\\qquad \\mathbb{S_j} = \\{ U_{i_1} \\cdots U_{i_j}  \\ket{\\psi_0} \\}_{i_1=1, \\cdots i_j=1}^r  \\quad \\forall j\\\\\n",
    "    \\quad \\\\\n",
    "    \\mathbb{CS_K} = \\bigcup_{j=1}^r \\mathbb{S_j}\n",
    "$$\n",
    "\n",
    "\n",
    "The advantage of using this subspace is that every element of the basis is of the form of a Pauli word times the same state $\\ket{\\psi_0}$, so that every matrix element is an expectation value of a Pauli Sentence. The picture below explains the different steps to follow\n",
    "\n",
    "\n",
    "\n",
    "<img src=\"img/pic1.png\" alt= “” width=\"600\" height=\"300\">"
   ]
  },
  {
   "attachments": {},
   "cell_type": "markdown",
   "metadata": {},
   "source": [
    "The first step (1) is to create the Pauli word Basis $\\mathbb{CS_K}$. Then we calculate the overlap matrix $\\mathcal{E}$ (labeled in the code as S) and $\\mathcal{D}$ (2). As explained, the matrix elements of $\\mathcal{E}$ and $\\mathcal{D}$ are expectation values of some Pauli word $Q_{nm}$, which can then be efficiently computed on a quantum compouter with pennylane.\n",
    "\n",
    "$$ \\mathcal{E}_{nm} =  \\braket{\\chi_n | \\chi_m} \\\\\n",
    "                    = \\bra{\\psi_0} P_n^{\\dagger} P_m\\ket{\\psi_0}\\\\\n",
    "                    = \\bra{\\psi_0} Q_{nm} \\ket{\\psi_0}\n",
    "$$\n",
    "\n",
    "Note that the two matrices are hermitian.\n",
    "\n",
    "Now that we have calculated the matrices, we can search for the ground state by solving the constrained minimisation problem (3). This can be recast as a generalised eigenvalue problem of the form\n",
    "$$\n",
    "\\mathcal{D} \\alpha = \\lambda \\mathcal{E} \\alpha\n",
    "$$\n",
    "This generalised eigenvalue problem is solved classically using scipy."
   ]
  },
  {
   "cell_type": "code",
   "execution_count": 1,
   "metadata": {},
   "outputs": [],
   "source": [
    "%load_ext autoreload\n",
    "%autoreload 2\n",
    "\n",
    "from pennylane import numpy as np\n",
    "import pennylane as qml\n",
    "import pickle\n",
    "import scipy\n",
    "from scipy.linalg import eigh\n",
    "\n",
    "from IQAE_toolbox import *\n",
    "import matplotlib.pyplot as plt\n"
   ]
  },
  {
   "attachments": {},
   "cell_type": "markdown",
   "metadata": {},
   "source": [
    "## Molecular definition"
   ]
  },
  {
   "attachments": {},
   "cell_type": "markdown",
   "metadata": {},
   "source": [
    "We create here the definition of the molecule parameters. The frozen core approxiamtion is used, with an equilibirum bond length taken from the litterature. The total number of spin-orbitals is therefore 12 with 4 active electrons.\n",
    "\n",
    "The Hamiltonian is defined with the Jordan-Wigner mapping (12 qubits), and tapered with $\\mathbb{Z_2}$ symmetries down to 7 qubits"
   ]
  },
  {
   "cell_type": "code",
   "execution_count": 2,
   "metadata": {},
   "outputs": [
    {
     "name": "stdout",
     "output_type": "stream",
     "text": [
      "Number of qubits =  12\n",
      "Number of terms in H =  327\n"
     ]
    }
   ],
   "source": [
    "n_electrons = 4\n",
    "n_orbitals = 6\n",
    "\n",
    "\n",
    "symbols = [\"H\", \"Be\", \"H\"]\n",
    "coordinates = angstrom_to_bohr(np.array([0.0, 0.0, -1.3264, 0.0, 0.0,0.0, 0.0, 0.0, 1.3264], requires_grad=False))\n",
    "\n",
    "H, n_qubits = qml.qchem.molecular_hamiltonian(symbols,\n",
    "                                                coordinates,\n",
    "                                                basis='sto-3G',\n",
    "                                                active_electrons=n_electrons,\n",
    "                                                active_orbitals=n_orbitals)\n",
    "print(\"Number of qubits = \", n_qubits)\n",
    "print(\"Number of terms in H = \", len(H.coeffs))\n",
    "#print(\"The Hamiltonian is \", H)"
   ]
  },
  {
   "cell_type": "code",
   "execution_count": 3,
   "metadata": {},
   "outputs": [
    {
     "name": "stderr",
     "output_type": "stream",
     "text": [
      "/Users/Brian/workspace/Research/QHack2023/.conda/lib/python3.10/site-packages/pennylane/operation.py:1830: UserWarning: Tensor object acts on overlapping wires; in some PennyLane functions this will lead to undefined behaviour\n",
      "  warnings.warn(\n",
      "/Users/Brian/workspace/Research/QHack2023/.conda/lib/python3.10/site-packages/pennylane/operation.py:1993: UserWarning: Tensor object acts on overlapping wires; in some PennyLane functions this will lead to undefined behaviour\n",
      "  warnings.warn(\n"
     ]
    }
   ],
   "source": [
    "generators = qml.symmetry_generators(H)\n",
    "paulixops = qml.paulix_ops(generators, n_qubits)\n",
    "paulix_sector = qml.qchem.optimal_sector(H, generators, n_electrons)\n",
    "\n",
    "H_tapered = qml.taper(H, generators, paulixops, paulix_sector)\n",
    "\n",
    "state_tapered = qml.qchem.taper_hf(generators, paulixops, paulix_sector,\n",
    "                                   num_electrons=n_electrons, num_wires=len(H.wires))"
   ]
  },
  {
   "attachments": {},
   "cell_type": "markdown",
   "metadata": {},
   "source": [
    "## Standard VQE"
   ]
  },
  {
   "attachments": {},
   "cell_type": "markdown",
   "metadata": {},
   "source": [
    "The ansatz used is Givens rotations based, tapered in order to fit the tapered Hamiltonian.\n",
    "Note that no Adapt-VQE technique has been used (all the excitations are taken into account). This could be used to remove vanishing-gradients excitations. However the goal of the VQE here is just to provide an initial state for the IQAE method."
   ]
  },
  {
   "cell_type": "code",
   "execution_count": 4,
   "metadata": {},
   "outputs": [
    {
     "name": "stdout",
     "output_type": "stream",
     "text": [
      "singles 16 doubles  76\n"
     ]
    }
   ],
   "source": [
    "singles, doubles = qml.qchem.excitations(n_electrons, len(H.wires))\n",
    "print('singles', len(singles), 'doubles ', len(doubles))\n",
    "tapered_doubles = [\n",
    "    qml.taper_operation(qml.DoubleExcitation, generators, paulixops, paulix_sector,\n",
    "                        wire_order=H.wires, op_wires=double) for double in doubles\n",
    "]\n",
    "tapered_singles = [\n",
    "    qml.taper_operation(qml.SingleExcitation, generators, paulixops, paulix_sector,\n",
    "                        wire_order=H.wires, op_wires=single) for single in singles\n",
    "]\n",
    "\n",
    "dev = qml.device(\"default.qubit\", wires=H_tapered.wires)\n",
    "\n",
    "@qml.qnode(dev)\n",
    "def tapered_circuit(params):\n",
    "    qml.BasisState(state_tapered, wires=H_tapered.wires)\n",
    "    for idx, tapered_op in enumerate(tapered_doubles + tapered_singles):\n",
    "        tapered_op(params[idx])\n",
    "    return qml.expval(H_tapered)"
   ]
  },
  {
   "cell_type": "code",
   "execution_count": 5,
   "metadata": {},
   "outputs": [
    {
     "name": "stdout",
     "output_type": "stream",
     "text": [
      "n: 5, E: -15.59269690 Ha\n",
      "n: 10, E: -15.59431804 Ha\n",
      "n: 15, E: -15.59444016 Ha\n",
      "n: 20, E: -15.59446158 Ha\n",
      "n: 25, E: -15.59446621 Ha\n",
      "n: 30, E: -15.59446725 Ha\n",
      "n: 35, E: -15.59446749 Ha\n",
      "n: 40, E: -15.59446755 Ha\n"
     ]
    }
   ],
   "source": [
    "optimizer = qml.GradientDescentOptimizer(stepsize=0.5)\n",
    "params = np.zeros(len(doubles) + len(singles), requires_grad=True)\n",
    "\n",
    "for n in range(1, 41):\n",
    "    params, energy = optimizer.step_and_cost(tapered_circuit, params)\n",
    "    if not n % 5:\n",
    "        print(f\"n: {n}, E: {energy:.8f} Ha\")"
   ]
  },
  {
   "cell_type": "code",
   "execution_count": 6,
   "metadata": {},
   "outputs": [],
   "source": [
    "@qml.qnode(dev)\n",
    "def taperedState_circuit(params):\n",
    "    qml.BasisState(state_tapered, wires=H_tapered.wires)\n",
    "    for idx, tapered_op in enumerate(tapered_doubles + tapered_singles):\n",
    "        tapered_op(params[idx])\n",
    "    return qml.state()\n",
    "\n",
    "psi0 = taperedState_circuit(params)\n",
    "import pickle\n",
    "with open('gs_vqe.pkl','wb') as f:\n",
    "    pickle.dump(psi0, f)\n"
   ]
  },
  {
   "attachments": {},
   "cell_type": "markdown",
   "metadata": {},
   "source": [
    "For reference, the exact ground state energy of our model (approximated Hamiltonian) is $-15.594837897448235$ Ha\n",
    "\n",
    "The VQE energy reached is $-15.59446755$ Ha\n",
    "\n",
    "The goal of the IQAE (following section) is to get closer the exact ground state above, starting from the VQE result."
   ]
  },
  {
   "attachments": {},
   "cell_type": "markdown",
   "metadata": {},
   "source": [
    "## IQAE method"
   ]
  },
  {
   "attachments": {},
   "cell_type": "markdown",
   "metadata": {},
   "source": [
    "\n",
    "<img src=\"img/pic1.png\" alt= “” width=\"600\" height=\"300\">"
   ]
  },
  {
   "cell_type": "code",
   "execution_count": 7,
   "metadata": {},
   "outputs": [],
   "source": [
    "qubits_tap = n_qubits-len(paulixops)\n",
    "wire_tapered = [ paulixops[i].wires[0] for i in range(len(paulixops))]\n",
    "wire_tap = [ x for x in range(n_qubits) if not x in wire_tapered ]\n",
    "wire_map = {wire:i for i,wire in enumerate(wire_tap)}\n",
    "\n",
    "#H_tapered = qml.map_wires(H_tapered_oldwires,wire_map)"
   ]
  },
  {
   "cell_type": "code",
   "execution_count": 8,
   "metadata": {},
   "outputs": [],
   "source": [
    "dev = qml.device(\"default.qubit\", wires=qubits_tap)"
   ]
  },
  {
   "attachments": {},
   "cell_type": "markdown",
   "metadata": {},
   "source": [
    "The following cell is computing the expectation value of a product between two Pauli words with a Hamiltonian sandwiched in between.\n",
    "A much cleaner code is provided in IQAE_toolbox.py named \"expectation_obs\". However discrepencies in the results of the matrix D prevented us to use these clean codes (see explanation and reproducer in IQAE_toolbox.py under the tag  \"LESS CLEAN FUNCTIONS (that work)\")}"
   ]
  },
  {
   "cell_type": "code",
   "execution_count": 9,
   "metadata": {},
   "outputs": [],
   "source": [
    "def expectation_value_H(P1,P2, H=qml.Hamiltonian(coeffs=[1], observables=[qml.Identity(wires=range(qubits_tap))] )):\n",
    "    N = len(H.coeffs)\n",
    "    Phase = np.zeros((N), dtype=int, requires_grad=False)\n",
    "    Pauli = np.empty((N), dtype='U'+str(qubits_tap), requires_grad=False)\n",
    "    for i in range(N):\n",
    "        P_H = qml.pauli.pauli_word_to_string(H.ops[i],wire_map)\n",
    "        phase, P = Ps_multiply(P1,P_H,P2)\n",
    "        Phase[i] = phase\n",
    "        Pauli[i] = P\n",
    "    \n",
    "    @qml.qnode(dev)\n",
    "    def expect():\n",
    "        H_ = qml.Hamiltonian([ H.coeffs[i]*np.exp(1j*np.pi/2*Phase[i])       for i in range(N)],\n",
    "                             [ qml.pauli.string_to_pauli_word(str(Pauli[i])) for i in range(N)],\\\n",
    "                              simplify=False)\n",
    "        qml.QubitStateVector(psi0, range(qubits_tap))\n",
    "        return qml.expval(H_)\n",
    "    return expect()"
   ]
  },
  {
   "attachments": {},
   "cell_type": "markdown",
   "metadata": {},
   "source": [
    "Now we can compute the overlap matrix S and the matrix D (overlap with the Hamiltonian sandwiched).\n",
    "Note that the matrix D is much slower to compute than S due to the product of pauli words and the hamiltonian.\n",
    "\n",
    "The additional argument D_mat_old is here to avoid recomputing all the elements of D (see the iterative side of the algorithm in the next section)"
   ]
  },
  {
   "cell_type": "code",
   "execution_count": 10,
   "metadata": {},
   "outputs": [],
   "source": [
    "# Construct the overlap matrix S\n",
    "def S_mat(basis):\n",
    "    N = len(basis)\n",
    "    S_mat = np.ones((N,N), dtype=complex)\n",
    "    for i in range(N):\n",
    "        for j in range(i):\n",
    "            S_mat[i,j] = expectation_value_H(basis[i],basis[j])\n",
    "            S_mat[j,i] = S_mat[i,j].conjugate()\n",
    "    return S_mat\n",
    "\n",
    "\n",
    "# Construct the matrix D\n",
    "def D_mat(basis, H, D_mat_old=[]):\n",
    "    N = len(basis)\n",
    "    D_mat = np.zeros((N,N), dtype=complex)\n",
    "    N_old = len(D_mat_old)\n",
    "    if N_old!=0:\n",
    "        D_mat[:N_old,:N_old] = D_mat_old.copy()\n",
    "    for i in range(N_old,N):\n",
    "        for j in range(i):\n",
    "            D_mat[i,j] = expectation_value_H(basis[i],basis[j], H)\n",
    "            D_mat[j,i] = D_mat[i,j].conjugate()\n",
    "        D_mat[i,i] = expectation_value_H(basis[i],basis[i], H).real\n",
    "    \n",
    "    return D_mat"
   ]
  },
  {
   "attachments": {},
   "cell_type": "markdown",
   "metadata": {},
   "source": [
    "Now we can do some tests:\n",
    "First of all when the Krylov-inspired basis is only composed of the Identity, we got the same energy as the starting point (obtained from VQE). yay"
   ]
  },
  {
   "cell_type": "code",
   "execution_count": 11,
   "metadata": {},
   "outputs": [
    {
     "name": "stdout",
     "output_type": "stream",
     "text": [
      "basis = Identity\n",
      "IQAE energy:  -15.59446755318845  Ha\n"
     ]
    }
   ],
   "source": [
    "basis = ['IIIIIII']\n",
    "\n",
    "S = S_mat(basis)\n",
    "D = D_mat(basis,H_tapered)\n",
    "\n",
    "vals, vect = eigh(D,S, eigvals_only=False)\n",
    "print(\"basis = Identity\" )\n",
    "print(\"IQAE energy: \",vals[0],\" Ha\")\n"
   ]
  },
  {
   "attachments": {},
   "cell_type": "markdown",
   "metadata": {},
   "source": [
    "Now we can build the iterative algorithm which:\n",
    "<ol>\n",
    "    <li> Creates the Krylov-inspired basis for a given K</li>\n",
    "    <li> Since the basis of Pauli words is very big, we randomly shuffle it and take M elements. We define a \"basis\" consisting first of the identity, and we add to it the M elements chosen.</li>\n",
    "    <li> Compute the matrix D,S and performs the subspace diagonalisation on this basis</li>\n",
    "    <li> Select elements of the basis with thresholds from the resulting alpha and the overlap matrix S (eps_alpha, eps_mat)</li>\n",
    "    <li> Remove the elements under the thresholds and restart from 2. (We reselect then M new elements which are added to the survivors left in \"basis\")</li>\n",
    "</ol>"
   ]
  },
  {
   "cell_type": "code",
   "execution_count": 12,
   "metadata": {},
   "outputs": [],
   "source": [
    "def optimize_krylov(H_tapered, N, M, eps_alpha=1e-6, eps_mat=1e-2, K=1, seed=None, showfig=False):\n",
    "    CS = cumulative_space(H_tapered,wire_map,K)\n",
    "    L = len(CS)\n",
    "    warning = False\n",
    "    while N*M > L:\n",
    "        K += 1\n",
    "        CS = cumulative_space(H_tapered,wire_map,K)\n",
    "        L = len(CS)\n",
    "        warning = True\n",
    "    if warning:\n",
    "        print('Warning : the number of explored states is too large, K is increased')\n",
    "    \n",
    "    if seed!=None:\n",
    "        np.random.seed(seed)\n",
    "\n",
    "    CS_list = list(CS)\n",
    "    CS_list.sort()\n",
    "    \n",
    "    np.random.shuffle(CS_list)\n",
    "    \n",
    "    basis = [\"I\"*qubits_tap]\n",
    "    Energy = np.zeros((N+1))\n",
    "    Basis_size = np.zeros((N+1), dtype=int)\n",
    "    \n",
    "    S = S_mat(basis)\n",
    "    D = D_mat(basis, H_tapered)\n",
    "    D_mat_old = D.copy()\n",
    "    \n",
    "    vals = eigh(D,S, eigvals_only=True)\n",
    "    Energy[0] = vals[0]\n",
    "    Basis_size[0] = 1\n",
    "    \n",
    "    for n in range(N):\n",
    "        print(str(n+1)+'/'+str(N))\n",
    "        N_basis = len(basis)\n",
    "        \n",
    "        # Draw random basis elements\n",
    "        basis_trial = CS_list[M*n:M*(n+1)]\n",
    "        \n",
    "        # Compute the energy on that new basis\n",
    "        S = S_mat(basis+basis_trial)\n",
    "        D = D_mat(basis+basis_trial, H_tapered, D_mat_old)\n",
    "        vals, vects = eigh(D,S, eigvals_only=False)\n",
    "        I = np.argsort(vals)\n",
    "        vals = vals[I]\n",
    "        vects = vects[:,I]\n",
    "        Energy[n+1] = vals[0]\n",
    "        alpha = vects[:,0]/np.sqrt(np.sum(np.abs(vects[:,0])**2))\n",
    "        \n",
    "        \n",
    "        # Select the best elements\n",
    "        selection_condition = (abs(alpha[N_basis:])**2 > eps_alpha) * (np.max(abs(S[:N_basis, N_basis:]), axis=0) < 1-eps_mat)\n",
    "        basis_trial_selected = np.array(basis_trial, requires_grad=False).base\n",
    "        basis_trial_selected = basis_trial_selected[ selection_condition ]\n",
    "        \n",
    "\n",
    "        # Plot\n",
    "        if(showfig):\n",
    "            fig, ax = plt.subplots()\n",
    "            for i in range(len(alpha)):\n",
    "                if abs(alpha[i])**2 > eps_alpha:\n",
    "                    color = [0, 0.4470, 0.7410]\n",
    "                else:\n",
    "                    color = [0.8500, 0.3250, 0.0980]\n",
    "                    \n",
    "                plt.plot([i,i],[0,abs(alpha[i])**2],':o', color=color)\n",
    "            \n",
    "            plt.plot(np.ones(len(alpha))*eps_alpha, ':k')\n",
    "\n",
    "            cond = np.max(abs(S[:N_basis, N_basis:]), axis=0)\n",
    "            for i in range(len(basis_trial)):\n",
    "                ax.annotate( np.around( cond[i] , 3), [i+N_basis+0.05,abs(alpha[i+N_basis])**2])\n",
    "                \n",
    "                if (cond[i] > 1-eps_mat):\n",
    "                    plt.plot([i+N_basis,i+N_basis],[0,abs(alpha[i+N_basis])**2],'x', color=[0.4660, 0.6740, 0.1880], markersize=10, linewidth=2)\n",
    "            plt.xticks(range(len(alpha)), labels=basis+basis_trial)\n",
    "            plt.xticks(rotation=45)\n",
    "            plt.yscale('log')\n",
    "            plt.show()\n",
    "        \n",
    "        \n",
    "        \n",
    "        # Keep the matrix elements already computed\n",
    "        idx_keep = np.where( selection_condition )[0]+len(basis)\n",
    "        idx_keep = np.concatenate([np.arange(len(basis)), idx_keep])            \n",
    "        D_mat_old = D[np.ix_(idx_keep, idx_keep)]\n",
    "        \n",
    "        basis += list(basis_trial_selected)\n",
    "        Basis_size[n+1] = len(basis)\n",
    "        \n",
    "    return Energy, Basis_size"
   ]
  },
  {
   "attachments": {},
   "cell_type": "markdown",
   "metadata": {},
   "source": [
    "## Results and conclusion"
   ]
  },
  {
   "attachments": {},
   "cell_type": "markdown",
   "metadata": {},
   "source": [
    "We present in the following plot one step of the selection process.\n",
    "The Krylov-fueled part of the algorithm creates the basis showed on the X-axis, and the corresponding component $|\\alpha_i|^2$.\n",
    "\n",
    "The selection of the basis is twofold:\n",
    "<ol>\n",
    "    <li> when the component $|\\alpha_i|^2$ is too low, we remove it. </li>\n",
    "    <li> if the newly added Pauli word is too similar to one of the existing basis, we remove it. This check is done on the overlap matrix S </li>\n",
    "</ol>\n",
    "\n",
    "The dummy example below shows the different selection behaviours. Starting from the Identity, it adds the Pauli words on the X axis,\n",
    "computes the overlap S and D matrices, and performs the subspace diagonalisation. The red points are pauli words that will be discarded due to a too low contribution of the component alpha_i (the threshold is the black line). The number above the points is related to the overlap matrix elements. The corresponding Pauli word is not selected if it is too close to 1, hence the green cross. "
   ]
  },
  {
   "cell_type": "code",
   "execution_count": 13,
   "metadata": {},
   "outputs": [
    {
     "name": "stdout",
     "output_type": "stream",
     "text": [
      "1/1\n"
     ]
    },
    {
     "data": {
      "image/png": "[encoded data removed]",
      "text/plain": [
       "<Figure size 640x480 with 1 Axes>"
      ]
     },
     "metadata": {},
     "output_type": "display_data"
    }
   ],
   "source": [
    "E, B = optimize_krylov(H_tapered, eps_mat=5e-2, N=1, M=5, K=1, seed=97,showfig=True)"
   ]
  },
  {
   "attachments": {},
   "cell_type": "markdown",
   "metadata": {},
   "source": [
    "Now we can run several steps of the iterative procedure. Cautious, the cell takes ~10min to run."
   ]
  },
  {
   "cell_type": "code",
   "execution_count": 14,
   "metadata": {},
   "outputs": [
    {
     "name": "stdout",
     "output_type": "stream",
     "text": [
      "1/10\n",
      "2/10\n",
      "3/10\n",
      "4/10\n",
      "5/10\n",
      "6/10\n",
      "7/10\n",
      "8/10\n",
      "9/10\n",
      "10/10\n"
     ]
    }
   ],
   "source": [
    "E, B = optimize_krylov(H_tapered, N=10, M=10, K=1, seed=1001)"
   ]
  },
  {
   "cell_type": "code",
   "execution_count": 15,
   "metadata": {},
   "outputs": [
    {
     "data": {
      "image/png": "[encoded data removed]",
      "text/plain": [
       "<Figure size 640x480 with 2 Axes>"
      ]
     },
     "metadata": {},
     "output_type": "display_data"
    }
   ],
   "source": [
    "true_GS = eigh(qml.matrix(H_tapered), eigvals_only=True)[0]\n",
    "\n",
    "fig, ax1 = plt.subplots()\n",
    "ax2 = ax1.twinx()\n",
    "ax1.plot(E-true_GS, color=[0, 0.4470, 0.7410])\n",
    "ax2.plot(B, color=[0.8500, 0.3250, 0.0980])\n",
    "ax1.set_ylim((0,1.1*(E[0]-true_GS)))\n",
    "\n",
    "\n",
    "from matplotlib.ticker import ScalarFormatter\n",
    "class ScalarFormatterClass(ScalarFormatter):\n",
    "    def _set_format(self):\n",
    "        self.format = \"%1.2f\"\n",
    "        \n",
    "yScalarFormatter = ScalarFormatterClass(useMathText=True)\n",
    "yScalarFormatter.set_powerlimits((-4,-4))\n",
    "ax1.yaxis.set_major_formatter(yScalarFormatter)\n",
    "\n",
    "ax1.set_xlabel('Step')\n",
    "ax1.set_ylabel('Absolute error', color=[0, 0.4470, 0.7410])\n",
    "ax2.set_ylabel('Basis size', color=[0.8500, 0.3250, 0.0980])\n",
    "\n",
    "\n",
    "plt.savefig('img/result.png')\n",
    "plt.show()\n",
    "#plt.plot(-np.abs(E-true_GS)/true_GS)\n",
    "\n",
    "#plt.show()"
   ]
  },
  {
   "attachments": {},
   "cell_type": "markdown",
   "metadata": {},
   "source": [
    "<img src=\"img/result.png\" alt= “” width=\"600\" height=\"400\">"
   ]
  },
  {
   "cell_type": "code",
   "execution_count": 16,
   "metadata": {},
   "outputs": [
    {
     "name": "stdout",
     "output_type": "stream",
     "text": [
      "[-15.59446755 -15.59447016 -15.59447012 -15.59448321 -15.59448342\n",
      " -15.59448637 -15.59453763 -15.59453991 -15.59468355 -15.59473404\n",
      " -15.59482438]\n"
     ]
    }
   ],
   "source": [
    "print(E)"
   ]
  },
  {
   "attachments": {},
   "cell_type": "markdown",
   "metadata": {},
   "source": [
    "\n",
    "This plot shows the absolute error on the ground state energy (IQAE algorithm wrt exact diagonalisation, blue curve), as well as the basis size (orange curve), as function of the iteration step. \n",
    "For reference, the exact ground state energy of our model (approximated Hamiltonian) is $-15.594837897448235$ Ha.\n",
    "After the IQAE procedure, we get $-15.59482438$ Ha.\n",
    "\n",
    "As we can see, after every iteration the result of the algorithm becomes closer to the true ground state. The VQE result (step 0, only Identity) has a relative error of 2e-5. At the end of 10 iterations, the relative error of the IQAE algorithm is 9e-7.\n",
    "\n",
    "The gap between the IQAE result and the exact ground state is reduced down to 3% from the gap between the VQE and the exact ground state energy.\n",
    "\n",
    "\n",
    "As we can see, the precision improvement is very promising considering we only use a subspace of 42 elements out of 16384 (=4^7) possible Pauli Words. We have though to keep in mind that the full Hilbert space has a dimension of $128$ ($=2^7$), so that the method becomes meaningless if we go beyond this limit. However in this case our subspace has a size of 33% of the full Hilbert space, which still provides an advantage over exact diagonalisation. \n"
   ]
  },
  {
   "attachments": {},
   "cell_type": "markdown",
   "metadata": {},
   "source": [
    "Addendum \n",
    "\n",
    "One can also try with 3 more iteration:\n",
    "The IQAE gives $-15.59483485$ Ha\n",
    "\n",
    "<img src=\"img/result2.png\" alt= “” width=\"600\" height=\"400\">"
   ]
  },
  {
   "cell_type": "code",
   "execution_count": null,
   "metadata": {},
   "outputs": [],
   "source": [
    "# Obtained with this line \n",
    "# E, B = optimize_krylov(H_tapered, N=13, M=10, K=1, seed=1001)"
   ]
  }
 ],
 "metadata": {
  "kernelspec": {
   "display_name": "Python 3",
   "language": "python",
   "name": "python3"
  },
  "language_info": {
   "codemirror_mode": {
    "name": "ipython",
    "version": 3
   },
   "file_extension": ".py",
   "mimetype": "text/x-python",
   "name": "python",
   "nbconvert_exporter": "python",
   "pygments_lexer": "ipython3",
   "version": "3.10.9"
  },
  "orig_nbformat": 4,
  "vscode": {
   "interpreter": {
    "hash": "0de978a0efcf5d6ece7f7335381770ff02f124c40723f59fd26fbc7876efdae4"
   }
  }
 },
 "nbformat": 4,
 "nbformat_minor": 2
}
