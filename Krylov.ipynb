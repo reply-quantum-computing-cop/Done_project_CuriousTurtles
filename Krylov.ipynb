{
 "cells": [
  {
   "cell_type": "code",
   "execution_count": 2,
   "id": "a2c7fed2-eb8a-49a9-92b8-302a28cf4cc3",
   "metadata": {},
   "outputs": [],
   "source": [
    "from pennylane import numpy as np\n",
    "import pennylane as qml\n",
    "import pickle\n",
    "from scipy.linalg import eigh\n",
    "from scipy.linalg import det"
   ]
  },
  {
   "cell_type": "code",
   "execution_count": 3,
   "id": "6ebb44ca-ad71-444c-9a20-01c76bbe7557",
   "metadata": {},
   "outputs": [],
   "source": [
    "def angstrom_to_bohr(dist):\n",
    "    return dist*1.88973"
   ]
  },
  {
   "cell_type": "code",
   "execution_count": 4,
   "id": "5cc10181-4391-47bd-aa74-97e384eb3e96",
   "metadata": {},
   "outputs": [],
   "source": [
    "\n",
    "# Multiplication rule for two Pauli matrices\n",
    "def multiply(s1, s2):\n",
    "    if s1=='I':\n",
    "        return 0, s2\n",
    "    if s2=='I':\n",
    "        return 0, s1\n",
    "    if s1==s2:\n",
    "        return 0,'I'\n",
    "    else:\n",
    "        \n",
    "        if s1=='X':\n",
    "            if s2=='Y':\n",
    "                return 1, 'Z' #XY = iZ\n",
    "            else:\n",
    "                return 3, 'Y' #XZ = -iY\n",
    "        elif s1=='Y':\n",
    "            if s2=='X':\n",
    "                return 3, 'Z' #YX = -iZ\n",
    "            else:\n",
    "                return 1, 'X' #YZ = iX\n",
    "        else:\n",
    "            if s2=='X':\n",
    "                return 1, 'Y' #ZX = iY\n",
    "            else:\n",
    "                return 3, 'X' #ZY = -iX\n",
    "                \n",
    "\n",
    "# Multiply two Pauli words and keep track of the phase\n",
    "def P_multiply(P1,P2):\n",
    "    #if len(P1)!=len(P2):\n",
    "    #    raise Exception(\"Pauli words must have the same length\")\n",
    "        \n",
    "    Phase = 0\n",
    "    P = ''\n",
    "    for i in range(len(P1)):\n",
    "        phase, s = multiply(P1[i], P2[i])\n",
    "        Phase += phase\n",
    "        P += s\n",
    "    return Phase%4, P\n"
   ]
  },
  {
   "cell_type": "code",
   "execution_count": 5,
   "id": "7549ab2d-9e82-492a-b974-9d447edde38a",
   "metadata": {},
   "outputs": [],
   "source": [
    "# Return the Pauli words of H in string form\n",
    "def extract_basis_str(H, wire_map):\n",
    "    \n",
    "    N = len(H.coeffs)\n",
    "    basis_str = set()\n",
    "    for i in range(N):\n",
    "        basis_str.add( qml.pauli.pauli_word_to_string(H.ops[i], wire_map = wire_map) )\n",
    "    return basis_str\n",
    "\n",
    "\n",
    "\n",
    "# Generate the cummulative space CSK\n",
    "def cummulative_space(H,K, wire_map):\n",
    "    \n",
    "    CSK = set()\n",
    "    if K==0:\n",
    "        Id = 'I'\n",
    "        for i in range(qubits-1):\n",
    "            Id += 'I'\n",
    "        return {Id}\n",
    "    \n",
    "    elif K==1:\n",
    "        return extract_basis_str(H, wire_map)\n",
    "    \n",
    "    else:\n",
    "        CS1 = extract_basis_str(H, wire_map)\n",
    "        \n",
    "        Id = 'I'\n",
    "        for i in range(qubits-1):\n",
    "            Id += 'I'\n",
    "            \n",
    "        basis = [{''.join(['I' for _ in range(qubits_tap)])},CS1]\n",
    "        for k in range(K-1):\n",
    "            CSK.update(basis[-2])\n",
    "            basis.append(  increment_cummulative_space( basis[-1].difference(a)  ,CS1)   )\n",
    "        CSK.update(*basis[-2:])\n",
    "    return CSK\n",
    "\n",
    "\n",
    "# Help generate the cummulative space\n",
    "def increment_cummulative_space(basis, CS1):\n",
    "    N = len(basis)\n",
    "    n = len(CS1)\n",
    "    SK = set()\n",
    "        \n",
    "    for s1 in basis:\n",
    "        for s2 in CS1:\n",
    "            _, P = P_multiply(s1, s2)\n",
    "            SK.add(P)\n",
    "    return SK"
   ]
  },
  {
   "cell_type": "code",
   "execution_count": 6,
   "id": "35f9dfc3-f77a-4e82-9317-ab4194aab6cc",
   "metadata": {},
   "outputs": [],
   "source": [
    "\n",
    "def expectation_value(P1,P2,P3=None):\n",
    "\n",
    "    \n",
    "    if P3==None:\n",
    "        phase, P = P_multiply(P1,P2)\n",
    "    else:\n",
    "        phase_, P_ = P_multiply(P1,P3)\n",
    "        phase, P = P_multiply(P_,P2)\n",
    "        phase += phase_\n",
    "        \n",
    "    dev = qml.device(\"default.qubit\", wires=qubits_tap)\n",
    "    @qml.qnode(dev)\n",
    "    def expect(P):\n",
    "        # initial state to add\n",
    "        with open('gs.pkl','rb') as f:\n",
    "            x = pickle.load(f)\n",
    "        qml.QubitStateVector(x, range(qubits_tap))\n",
    "        \n",
    "        return qml.expval(qml.pauli.string_to_pauli_word(P))\n",
    "    return np.exp(1j*np.pi*phase/2)*expect(P)\n",
    "\n",
    "\n",
    "\n",
    "# Construct the overlap matrix S\n",
    "def S_mat(basis):\n",
    "    N = len(basis)\n",
    "    S_mat = np.ones((N,N), dtype=complex)\n",
    "    for i in range(N):\n",
    "        for j in range(i):\n",
    "            S_mat[i,j] = expectation_value(basis[i],basis[j])\n",
    "            S_mat[j,i] = S_mat[i,j].conjugate()\n",
    "    return S_mat\n",
    "\n",
    "\n",
    "# Construct the matrix D\n",
    "def D_mat(basis, H):\n",
    "    N = len(basis)\n",
    "    D_mat = np.zeros((N,N), dtype=complex)\n",
    "\n",
    "    for i in range(N):\n",
    "        for j in range(i):\n",
    "            D_mat[i,j] = sum([ H.coeffs[k]*\\\n",
    "                                expectation_value(basis[i],basis[j], qml.pauli.pauli_word_to_string(H.ops[k], wire_map))\\\n",
    "                                for k in range(len(H.coeffs))])\n",
    "            D_mat[j,i] = D_mat[i,j].conjugate()\n",
    "        D_mat[i,i] = sum([ H.coeffs[k]*\\\n",
    "                                expectation_value(basis[i],basis[i], qml.pauli.pauli_word_to_string(H.ops[k], wire_map))\\\n",
    "                                for k in range(len(H.coeffs))]).real\n",
    "    \n",
    "    return D_mat"
   ]
  },
  {
   "cell_type": "code",
   "execution_count": null,
   "id": "358750a7-337a-4f70-9490-277e608661d0",
   "metadata": {},
   "outputs": [],
   "source": [
    "\n",
    "\n",
    "\n",
    "\n"
   ]
  },
  {
   "cell_type": "markdown",
   "id": "f1510db7-bb40-4479-bb5d-e9c16a9b44db",
   "metadata": {},
   "source": [
    "### Molecule"
   ]
  },
  {
   "cell_type": "code",
   "execution_count": 25,
   "id": "1d1521de-1a5f-4ba1-b8ab-a38bbbfd7d8d",
   "metadata": {},
   "outputs": [],
   "source": [
    "symbols = [\"H\",\"Be\",\"H\"]\n",
    "dist = 1.291\n",
    "geometry = angstrom_to_bohr( np.array([[0, 0, -dist],[0.,0,0],[0,0,dist]]) )\n",
    "mol = qml.qchem.Molecule(symbols, geometry)"
   ]
  },
  {
   "cell_type": "code",
   "execution_count": 26,
   "id": "1b94ad37-d243-4093-8ea7-b21591955921",
   "metadata": {},
   "outputs": [],
   "source": [
    "active_electrons = 4\n",
    "active_orbitals = 6\n",
    "\n",
    "H, qubits = qml.qchem.molecular_hamiltonian(mol.symbols,\n",
    "                                            mol.coordinates,\n",
    "                                            active_electrons=active_electrons,\n",
    "                                            active_orbitals=active_orbitals,\n",
    "                                                      grouping_method = 'qwc',\n",
    "                                                      args=[mol.coordinates])"
   ]
  },
  {
   "cell_type": "markdown",
   "id": "0980cc1f-55da-4f75-acdd-9f971abbcb35",
   "metadata": {},
   "source": [
    "### Tapering"
   ]
  },
  {
   "cell_type": "code",
   "execution_count": 27,
   "id": "7a6c9f03-e892-41c9-9074-30f9008aafcf",
   "metadata": {},
   "outputs": [],
   "source": [
    "generators = qml.symmetry_generators(H)\n",
    "paulixops = qml.paulix_ops(generators, qubits)\n",
    "paulix_sector = qml.qchem.optimal_sector(H, generators, active_electrons)\n",
    "\n",
    "H_tapered = qml.taper(H, generators, paulixops, paulix_sector)"
   ]
  },
  {
   "cell_type": "code",
   "execution_count": 28,
   "id": "7a368cbd-40f7-4362-86a3-96aeb29766d2",
   "metadata": {},
   "outputs": [],
   "source": [
    "qubits_tap = qubits-len(paulixops)\n",
    "wire_tapered = [ paulixops[i].wires[0] for i in range(len(paulixops))]\n",
    "wire_tap = [ x for x in range(qubits) if not x in wire_tapered ]\n",
    "wire_map = {wire:i for i,wire in enumerate(wire_tap)}"
   ]
  },
  {
   "cell_type": "markdown",
   "id": "1591ad0f-d0db-4190-b1d2-eb201b995ff3",
   "metadata": {},
   "source": [
    "### Generalized eigenvalue problem"
   ]
  },
  {
   "cell_type": "code",
   "execution_count": 47,
   "id": "02b2d9db-59c1-436a-9527-a30f86b7c43b",
   "metadata": {},
   "outputs": [
    {
     "name": "stdout",
     "output_type": "stream",
     "text": [
      "(0.9751257915930351+0j)\n"
     ]
    }
   ],
   "source": [
    "basis = ['IIIIIII','XIIIIII','IXIIIII','IIXIIII','IIIXIII','IIIIXII','IIIIIXI','IIIIIIX']\n",
    "\n",
    "S = S_mat(basis)\n",
    "print(det(S))"
   ]
  },
  {
   "cell_type": "code",
   "execution_count": 48,
   "id": "0b03b6a0-520f-4eb1-a980-84052fbbfbed",
   "metadata": {},
   "outputs": [],
   "source": [
    "D = D_mat(basis, H_tapered)"
   ]
  },
  {
   "cell_type": "code",
   "execution_count": 52,
   "id": "08be5624-307c-4862-a6e9-c78f325192c9",
   "metadata": {},
   "outputs": [
    {
     "name": "stdout",
     "output_type": "stream",
     "text": [
      "[-15.59408252 -14.95054204 -14.55343213 -14.42904849 -12.58930074\n",
      " -10.71944452 -10.69859598 -10.2702529 ]\n"
     ]
    }
   ],
   "source": [
    "vals, vect = eigh(D,S, eigvals_only=False)\n",
    "print(vals)"
   ]
  },
  {
   "cell_type": "markdown",
   "id": "1532867f-272e-4a50-be3f-3cd167d11630",
   "metadata": {},
   "source": [
    "-15.59408238 <- ['IIIIII']\n",
    "-15.59408242 <- ['IIIIIII','IIIXIII','IIYIYII']\n",
    "-15.59408252 <- ['IIIIIII','XIIIIII','IXIIIII','IIXIIII','IIIXIII','IIIIIIX']"
   ]
  },
  {
   "cell_type": "code",
   "execution_count": 55,
   "id": "4a8db3e8-134f-4008-a6b2-86ab8f8687bb",
   "metadata": {},
   "outputs": [
    {
     "data": {
      "image/png": "[encoded data removed]",
      "text/plain": [
       "<Figure size 640x480 with 1 Axes>"
      ]
     },
     "metadata": {},
     "output_type": "display_data"
    }
   ],
   "source": [
    "from matplotlib import pyplot as plt\n",
    "\n",
    "\n",
    "plt.plot(abs(vect[0])**2,'.')\n",
    "plt.yscale('log')"
   ]
  },
  {
   "cell_type": "code",
   "execution_count": null,
   "id": "3b94bc84-ab39-4598-88ee-b8a484b86f0c",
   "metadata": {},
   "outputs": [],
   "source": []
  }
 ],
 "metadata": {
  "kernelspec": {
   "display_name": "venvPennylane",
   "language": "python",
   "name": "venvpennylane"
  },
  "language_info": {
   "codemirror_mode": {
    "name": "ipython",
    "version": 3
   },
   "file_extension": ".py",
   "mimetype": "text/x-python",
   "name": "python",
   "nbconvert_exporter": "python",
   "pygments_lexer": "ipython3",
   "version": "3.10.9"
  }
 },
 "nbformat": 4,
 "nbformat_minor": 5
}
