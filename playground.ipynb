{
 "cells": [
  {
   "cell_type": "code",
   "execution_count": 1,
   "metadata": {},
   "outputs": [],
   "source": [
    "from pennylane import numpy as np\n",
    "import pennylane as qml\n"
   ]
  },
  {
   "cell_type": "code",
   "execution_count": null,
   "metadata": {},
   "outputs": [],
   "source": [
    "def angstrom_to_bohr(dist):\n",
    "    return dist*1.88973\n"
   ]
  },
  {
   "cell_type": "code",
   "execution_count": 36,
   "metadata": {},
   "outputs": [
    {
     "name": "stdout",
     "output_type": "stream",
     "text": [
      "Number of qubits =  4\n",
      "The Hamiltonian is    (-0.24274501260967946) [Z2]\n",
      "+ (-0.2427450126096794) [Z3]\n",
      "+ (-0.04207255194720422) [I0]\n",
      "+ (0.17771358229075523) [Z1]\n",
      "+ (0.1777135822907553) [Z0]\n",
      "+ (0.1229333044930754) [Z0 Z2]\n",
      "+ (0.1229333044930754) [Z1 Z3]\n",
      "+ (0.16768338855612508) [Z0 Z3]\n",
      "+ (0.16768338855612508) [Z1 Z2]\n",
      "+ (0.17059759276840364) [Z0 Z1]\n",
      "+ (0.17627661394201583) [Z2 Z3]\n",
      "+ (-0.0447500840630497) [Y0 Y1 X2 X3]\n",
      "+ (-0.0447500840630497) [X0 X1 Y2 Y3]\n",
      "+ (0.0447500840630497) [Y0 X1 X2 Y3]\n",
      "+ (0.0447500840630497) [X0 Y1 Y2 X3]\n"
     ]
    }
   ],
   "source": [
    "symbols = [\"H\", \"H\"]\n",
    "coordinates = np.array([0.0, 0.0, -0.6614, 0.0, 0.0, 0.6614])\n",
    "\n",
    "H, n_qubits = qml.qchem.molecular_hamiltonian(symbols, coordinates, grouping_method='qwc')\n",
    "print(\"Number of qubits = \", n_qubits)\n",
    "print(\"The Hamiltonian is \", H)"
   ]
  },
  {
   "cell_type": "code",
   "execution_count": 37,
   "metadata": {},
   "outputs": [],
   "source": [
    "\n",
    "#symbols = [\"H\", \"Be\", \"H\"]\n",
    "#coordinates = angstrom_to_bohr(np.array([0.0, 0.0, -1.291, 0.0, 0.0,0.0, 0.0, 0.0, 1.291]))\n",
    "\n",
    "\n",
    "#H, n_qubits = qml.qchem.molecular_hamiltonian(symbols, coordinates, grouping_method='qwc')\n",
    "#print(\"Number of qubits = \", n_qubits)\n",
    "#print(\"The Hamiltonian is \", H)"
   ]
  },
  {
   "cell_type": "code",
   "execution_count": 38,
   "metadata": {},
   "outputs": [
    {
     "name": "stdout",
     "output_type": "stream",
     "text": [
      "[-0.04207255  0.17771358  0.17771358  0.17059759  0.04475008 -0.04475008\n",
      " -0.04475008  0.04475008 -0.24274501  0.1229333  -0.24274501  0.16768339\n",
      "  0.16768339  0.1229333   0.17627661]\n",
      "[Identity(wires=[0]), PauliZ(wires=[0]), PauliZ(wires=[1]), PauliZ(wires=[0]) @ PauliZ(wires=[1]), PauliY(wires=[0]) @ PauliX(wires=[1]) @ PauliX(wires=[2]) @ PauliY(wires=[3]), PauliY(wires=[0]) @ PauliY(wires=[1]) @ PauliX(wires=[2]) @ PauliX(wires=[3]), PauliX(wires=[0]) @ PauliX(wires=[1]) @ PauliY(wires=[2]) @ PauliY(wires=[3]), PauliX(wires=[0]) @ PauliY(wires=[1]) @ PauliY(wires=[2]) @ PauliX(wires=[3]), PauliZ(wires=[2]), PauliZ(wires=[0]) @ PauliZ(wires=[2]), PauliZ(wires=[3]), PauliZ(wires=[0]) @ PauliZ(wires=[3]), PauliZ(wires=[1]) @ PauliZ(wires=[2]), PauliZ(wires=[1]) @ PauliZ(wires=[3]), PauliZ(wires=[2]) @ PauliZ(wires=[3])]\n"
     ]
    }
   ],
   "source": [
    "print(H.coeffs)\n",
    "print(H.ops)"
   ]
  }
 ],
 "metadata": {
  "kernelspec": {
   "display_name": "Python 3",
   "language": "python",
   "name": "python3"
  },
  "language_info": {
   "codemirror_mode": {
    "name": "ipython",
    "version": 3
   },
   "file_extension": ".py",
   "mimetype": "text/x-python",
   "name": "python",
   "nbconvert_exporter": "python",
   "pygments_lexer": "ipython3",
   "version": "3.10.9"
  },
  "orig_nbformat": 4,
  "vscode": {
   "interpreter": {
    "hash": "0de978a0efcf5d6ece7f7335381770ff02f124c40723f59fd26fbc7876efdae4"
   }
  }
 },
 "nbformat": 4,
 "nbformat_minor": 2
}
